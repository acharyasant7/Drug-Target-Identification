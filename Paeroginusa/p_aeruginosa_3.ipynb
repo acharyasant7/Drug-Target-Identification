{
 "cells": [
  {
   "cell_type": "code",
   "execution_count": 1,
   "metadata": {},
   "outputs": [],
   "source": [
    "import ast"
   ]
  },
  {
   "cell_type": "code",
   "execution_count": 2,
   "metadata": {},
   "outputs": [
    {
     "name": "stdout",
     "output_type": "stream",
     "text": [
      "<class 'dict'>\n",
      "{'pae:PA0001': 'up:Q9I7C5', 'pae:PA0002': 'up:Q9I7C4', 'pae:PA0004': 'up:Q9I7C2', 'pae:PA0006': 'up:Q9I7C0', 'pae:PA0009': 'up:Q9I7B7', 'pae:PA0018': 'up:O85732', 'pae:PA0019': 'up:Q9I7A8', 'pae:PA0022': 'up:Q9I7A5', 'pae:PA0024': 'up:P43898', 'pae:PA0123': 'up:Q9I709', 'pae:PA0330': 'up:Q9I6G1', 'pae:PA0341': 'up:Q9I6F2', 'pae:PA0342': 'up:Q9I6F1', 'pae:PA0350': 'up:Q9I6E3', 'pae:PA0363': 'up:Q9I6D1', 'pae:PA0376': 'up:P42378', 'pae:PA0404': 'up:Q9I699', 'pae:PA0438': 'up:Q9I679', 'pae:PA0548': 'up:Q9I5Y8', 'pae:PA0551': 'up:Q9I5Y5', 'pae:PA0555': 'up:Q9I5Y1', 'pae:PA0576': 'up:P26480', 'pae:PA0577': 'up:Q9I5W0', 'pae:PA0580': 'up:Q9I5V7', 'pae:PA0593': 'up:Q9I5U4', 'pae:PA0607': 'up:Q9I5T1', 'pae:PA0611': 'up:Q06553', 'pae:PA0655': 'up:Q9I5R6', 'pae:PA0665': 'up:Q9I5Q6', 'pae:PA0678': 'up:Q9I5P7', 'pae:PA0759': 'up:Q9I5H0', 'pae:PA0768': 'up:Q9I5G7', 'pae:PA0771': 'up:Q9XCX8', 'pae:PA0773': 'up:Q9I5G5', 'pae:PA0903': 'up:Q9I553', 'pae:PA0904': 'up:O69077', 'pae:PA0906': 'up:Q9I551', 'pae:PA0947': 'up:Q9I511', 'pae:PA0956': 'up:Q9I502', 'pae:PA0963': 'up:Q51422', 'pae:PA0969': 'up:P50598', 'pae:PA0970': 'up:P50599', 'pae:PA0971': 'up:P50600', 'pae:PA0972': 'up:P50601', 'pae:PA1010': 'up:Q9I4W3', 'pae:PA1056': 'up:Q9I4R8', 'pae:PA1059': 'up:Q9I4R5', 'pae:PA1155': 'up:Q9I4I2', 'pae:PA1156': 'up:Q9I4I1', 'pae:PA1162': 'up:Q9I4H5', 'pae:PA1375': 'up:Q9I3W9', 'pae:PA1475': 'up:Q9I3N7', 'pae:PA1528': 'up:Q9I3I5', 'pae:PA1529': 'up:Q9I3I4', 'pae:PA1532': 'up:Q9I3I1', 'pae:PA1581': 'up:Q9I3D7', 'pae:PA1583': 'up:Q9I3D5', 'pae:PA1584': 'up:Q9I3D4', 'pae:PA1585': 'up:Q9I3D3', 'pae:PA1586': 'up:Q9I3D2', 'pae:PA1587': 'up:Q9I3D1', 'pae:PA1588': 'up:P53593', 'pae:PA1589': 'up:Q51567', 'pae:PA1609': 'up:Q9I3B2', 'pae:PA1610': 'up:O33877', 'pae:PA1681': 'up:Q9I344', 'pae:PA1776': 'up:Q9I2W5', 'pae:PA1787': 'up:Q9I2V5', 'pae:PA1792': 'up:Q9I2V0', 'pae:PA1794': 'up:Q9I2U8', 'pae:PA1795': 'up:Q9I2U7', 'pae:PA1796': 'up:Q9I2U6', 'pae:PA1815': 'up:Q9I2S9', 'pae:PA1816': 'up:Q9L7T4', 'pae:PA2024': 'up:P23205', 'pae:PA2156': 'up:Q9I1V9', 'pae:PA2584': 'up:Q9I0Q2', 'pae:PA2605': 'up:Q9I0N3', 'pae:PA2612': 'up:Q9I0M6', 'pae:PA2614': 'up:Q9I0M4', 'pae:PA2619': 'up:P65116', 'pae:PA2626': 'up:Q9I0L2', 'pae:PA2629': 'up:Q9I0K9', 'pae:PA2726': 'up:Q9I0B6', 'pae:PA2739': 'up:Q9I0A4', 'pae:PA2740': 'up:Q9I0A3', 'pae:PA2741': 'up:Q9I0A2', 'pae:PA2744': 'up:Q9I099', 'pae:PA2798': 'up:Q9I045', 'pae:PA2950': 'up:Q9HZP8', 'pae:PA2951': 'up:Q9HZP7', 'pae:PA2952': 'up:Q9HZP6', 'pae:PA2953': 'up:Q9HZP5', 'pae:PA2962': 'up:Q9HZN8', 'pae:PA2966': 'up:O54439', 'pae:PA2967': 'up:O54438', 'pae:PA2977': 'up:Q9HZM7', 'pae:PA2979': 'up:Q9HZM5', 'pae:PA2981': 'up:Q9HZM3', 'pae:PA2987': 'up:Q9HZL7', 'pae:PA2988': 'up:Q9HZL6', 'pae:PA3011': 'up:Q9HZJ5', 'pae:PA3088': 'up:Q9HZC0', 'pae:PA3112': 'up:Q9HZA7', 'pae:PA3117': 'up:Q51344', 'pae:PA3134': 'up:Q9XCL6', 'pae:PA3145': 'up:G3XD50', 'pae:PA3147': 'up:Q9HZ80', 'pae:PA3148': 'up:G3XD61', 'pae:PA3151': 'up:P72139', 'pae:PA3153': 'up:P72137', 'pae:PA3154': 'up:G3XCW3', 'pae:PA3155': 'up:Q9HZ76', 'pae:PA3156': 'up:G3XD01', 'pae:PA3158': 'up:G3XD23', 'pae:PA3159': 'up:G3XD94', 'pae:PA3162': 'up:Q9HZ71', 'pae:PA3167': 'up:Q9HZ66', 'pae:PA3168': 'up:P48372', 'pae:PA3171': 'up:Q9HZ63', 'pae:PA3397': 'up:Q9HYK7', 'pae:PA3481': 'up:Q9HYC8', 'pae:PA3627': 'up:P57708', 'pae:PA3636': 'up:Q9ZFK4', 'pae:PA3637': 'up:Q9HXZ4', 'pae:PA3638': 'up:Q9HXZ3', 'pae:PA3639': 'up:Q9HXZ2', 'pae:PA3640': 'up:Q9HXZ1', 'pae:PA3643': 'up:Q9HXY8', 'pae:PA3644': 'up:Q9X6P4', 'pae:PA3645': 'up:Q9HXY7', 'pae:PA3646': 'up:Q9HXY6', 'pae:PA3648': 'up:Q9HXY4', 'pae:PA3650': 'up:Q9KGU6', 'pae:PA3651': 'up:Q59640', 'pae:PA3652': 'up:Q9HXY2', 'pae:PA3653': 'up:O82853', 'pae:PA3654': 'up:O82852', 'pae:PA3655': 'up:O82851', 'pae:PA3656': 'up:O82850', 'pae:PA3666': 'up:G3XD76', 'pae:PA3685': 'up:Q9HXV5', 'pae:PA3700': 'up:Q9HXU0', 'pae:PA3703': 'up:Q9HXT8', 'pae:PA3721': 'up:Q9HXS0', 'pae:PA3769': 'up:Q9HXM6', 'pae:PA3770': 'up:Q9HXM5', 'pae:PA3799': 'up:Q9HXJ8', 'pae:PA3802': 'up:Q9HXJ5', 'pae:PA3803': 'up:Q9HXJ4', 'pae:PA3810': 'up:Q51382', 'pae:PA3811': 'up:Q9HXJ1', 'pae:PA3813': 'up:Q9HXI9', 'pae:PA3814': 'up:Q9HXI8', 'pae:PA3821': 'up:Q9HXI1', 'pae:PA3827': 'up:Q9HXH5', 'pae:PA3828': 'up:Q9HXH4', 'pae:PA3834': 'up:Q9HXH0', 'pae:PA3977': 'up:P48247', 'pae:PA3982': 'up:Q9HX37', 'pae:PA3984': 'up:Q9ZI86', 'pae:PA3987': 'up:Q9HX33', 'pae:PA3989': 'up:Q9HX31', 'pae:PA3997': 'up:Q9X6V9', 'pae:PA4003': 'up:Q9X6V3', 'pae:PA4019': 'up:Q9HX08', 'pae:PA4031': 'up:Q9HWZ6', 'pae:PA4043': 'up:Q9HWY4', 'pae:PA4044': 'up:Q9KGU7', 'pae:PA4051': 'up:Q9HWX7', 'pae:PA4052': 'up:Q9HWX6', 'pae:PA4068': 'up:Q9HWW0', 'pae:PA4093': 'up:Q9HWT5', 'pae:PA4237': 'up:O52761', 'pae:PA4238': 'up:O52760', 'pae:PA4239': 'up:O52759', 'pae:PA4240': 'up:Q9HWF8', 'pae:PA4241': 'up:Q9HWF7', 'pae:PA4243': 'up:Q9HWF5', 'pae:PA4244': 'up:Q9HWF4', 'pae:PA4246': 'up:Q9HWF2', 'pae:PA4247': 'up:Q9HWF1', 'pae:PA4248': 'up:Q9HWF0', 'pae:PA4249': 'up:Q9HWE9', 'pae:PA4251': 'up:Q9HWE7', 'pae:PA4252': 'up:Q9HWE6', 'pae:PA4253': 'up:Q9HWE5', 'pae:PA4254': 'up:Q9HWE4', 'pae:PA4255': 'up:Q9HWE3', 'pae:PA4256': 'up:Q9HWE2', 'pae:PA4257': 'up:Q9HWE1', 'pae:PA4258': 'up:Q9HWE0', 'pae:PA4260': 'up:Q9HWD8', 'pae:PA4262': 'up:Q9HWD6', 'pae:PA4263': 'up:Q9HWD5', 'pae:PA4264': 'up:Q9HWD4', 'pae:PA4266': 'up:Q9HWD2', 'pae:PA4267': 'up:Q9HWD1', 'pae:PA4268': 'up:Q9HWD0', 'pae:PA4269': 'up:Q9HWC9', 'pae:PA4270': 'up:Q51561', 'pae:PA4271': 'up:Q9HWC8', 'pae:PA4272': 'up:Q9HWC7', 'pae:PA4273': 'up:Q9HWC6', 'pae:PA4274': 'up:Q9HWC5', 'pae:PA4279': 'up:Q9HWC1', 'pae:PA4333': 'up:Q9HW68', 'pae:PA4366': 'up:P53641', 'pae:PA4385': 'up:P30718', 'pae:PA4386': 'up:P30720', 'pae:PA4403': 'up:Q9LCT3', 'pae:PA4406': 'up:P47205', 'pae:PA4407': 'up:P47204', 'pae:PA4408': 'up:P47203', 'pae:PA4411': 'up:Q9HW02', 'pae:PA4412': 'up:Q9HW01', 'pae:PA4413': 'up:Q9HW00', 'pae:PA4414': 'up:Q9HVZ9', 'pae:PA4415': 'up:Q9HVZ8', 'pae:PA4416': 'up:Q9HVZ7', 'pae:PA4417': 'up:Q59650', 'pae:PA4418': 'up:Q51504', 'pae:PA4420': 'up:Q9HVZ5', 'pae:PA4425': 'up:Q9HVZ0', 'pae:PA4429': 'up:Q9HVY6', 'pae:PA4432': 'up:Q9HVY3', 'pae:PA4433': 'up:Q9HVY2', 'pae:PA4439': 'up:Q9HVX6', 'pae:PA4450': 'up:Q9HVW7', 'pae:PA4459': 'up:Q9HVV8', 'pae:PA4460': 'up:Q9HVV7', 'pae:PA4461': 'up:Q9HVV6', 'pae:PA4479': 'up:Q9HVU2', 'pae:PA4480': 'up:Q9HVU1', 'pae:PA4481': 'up:Q9HVU0', 'pae:PA4483': 'up:Q9HVT8', 'pae:PA4484': 'up:Q9HVT7', 'pae:PA4529': 'up:Q9HVP8', 'pae:PA4557': 'up:Q9HVM7', 'pae:PA4559': 'up:Q9HVM5', 'pae:PA4560': 'up:Q9HVM4', 'pae:PA4561': 'up:Q9HVM3', 'pae:PA4567': 'up:Q9HVL7', 'pae:PA4569': 'up:Q9HVL5', 'pae:PA4602': 'up:Q9HVI7', 'pae:PA4636': 'up:Q9HVF5', 'pae:PA4655': 'up:Q9HVD7', 'pae:PA4664': 'up:Q9HVC8', 'pae:PA4665': 'up:P42806', 'pae:PA4668': 'up:P42812', 'pae:PA4669': 'up:P42805', 'pae:PA4670': 'up:Q9HVC5', 'pae:PA4672': 'up:Q9HVC3', 'pae:PA4685': 'up:Q9HVB0', 'pae:PA4728': 'up:Q9HV71', 'pae:PA4740': 'up:Q9HV59', 'pae:PA4744': 'up:Q9HV55', 'pae:PA4745': 'up:Q9HV54', 'pae:PA4746': 'up:Q9HV53', 'pae:PA4748': 'up:Q9HV51', 'pae:PA4749': 'up:Q9HV50', 'pae:PA4751': 'up:Q9HV48', 'pae:PA4752': 'up:P95454', 'pae:PA4759': 'up:P38103', 'pae:PA4761': 'up:Q9HV43', 'pae:PA4762': 'up:Q9HV42', 'pae:PA4764': 'up:Q03456', 'pae:PA4765': 'up:O68562', 'pae:PA4767': 'up:O68560', 'pae:PA4847': 'up:P37799', 'pae:PA4848': 'up:P37798', 'pae:PA4920': 'up:Q9HUP3', 'pae:PA4931': 'up:Q9HUN3', 'pae:PA4935': 'up:Q9HUM9', 'pae:PA4938': 'up:Q9HUM6', 'pae:PA4957': 'up:Q9HUK8', 'pae:PA4964': 'up:Q9HUK1', 'pae:PA4967': 'up:Q9HUJ8', 'pae:PA4969': 'up:Q9HUJ6', 'pae:PA4988': 'up:Q9HUH7', 'pae:PA4991': 'up:Q9HUH4', 'pae:PA4992': 'up:Q9HUH3', 'pae:PA4996': 'up:Q9HUG9', 'pae:PA4997': 'up:Q9HUG8', 'pae:PA4998': 'up:Q9HUG7', 'pae:PA4999': 'up:Q9HUG6', 'pae:PA5006': 'up:Q9HUF9', 'pae:PA5008': 'up:Q9S661', 'pae:PA5009': 'up:Q9HUF7', 'pae:PA5010': 'up:Q9HUF6', 'pae:PA5011': 'up:Q9HUF5', 'pae:PA5012': 'up:O05196', 'pae:PA5034': 'up:P95458', 'pae:PA5051': 'up:Q9HUC8', 'pae:PA5063': 'up:Q9HUC0', 'pae:PA5065': 'up:Q9HUB8', 'pae:PA5110': 'up:Q9HU73', 'pae:PA5119': 'up:Q9HU65', 'pae:PA5161': 'up:Q9HU24', 'pae:PA5162': 'up:Q9HU23', 'pae:PA5163': 'up:Q9HU22', 'pae:PA5164': 'up:Q9HU21', 'pae:PA5174': 'up:Q9HU15', 'pae:PA5221': 'up:Q9HTW9', 'pae:PA5223': 'up:Q9HTW7', 'pae:PA5237': 'up:Q9HTV3', 'pae:PA5239': 'up:Q9HTV1', 'pae:PA5243': 'up:Q59643', 'pae:PA5259': 'up:P48246', 'pae:PA5260': 'up:Q60169', 'pae:PA5278': 'up:Q51564', 'pae:PA5296': 'up:Q9HTQ8', 'pae:PA5320': 'up:Q9HTN4', 'pae:PA5321': 'up:Q9HTN3', 'pae:PA5336': 'up:Q9HTM2', 'pae:PA5358': 'up:Q9HTK0', 'pae:PA5492': 'up:Q9HT81', 'pae:PA5549': 'up:Q9HT25', 'pae:PA5552': 'up:Q9HT22', 'pae:PA5554': 'up:Q9HT20', 'pae:PA5555': 'up:Q9HT19', 'pae:PA5556': 'up:Q9HT18', 'pae:PA5557': 'up:Q9HT17', 'pae:PA5558': 'up:Q9HT16', 'pae:PA5560': 'up:Q9HT14', 'pae:PA5568': 'up:Q9HT06', 'pae:PA5569': 'up:Q9HT05'}\n"
     ]
    }
   ],
   "source": [
    "file = open('keggiddict_pae.txt','r')   #change here\n",
    "contents = file.read()\n",
    "keggiddict = ast.literal_eval(contents)\n",
    "file.close()\n",
    "print(type(keggiddict))\n",
    "print(keggiddict)"
   ]
  },
  {
   "cell_type": "code",
   "execution_count": 3,
   "metadata": {},
   "outputs": [
    {
     "name": "stdout",
     "output_type": "stream",
     "text": [
      "<class 'list'>\n",
      "['pae:PA2412', 'pae:PA4442', 'pae:PA4443', 'pae:PA0904', 'pae:PA3117', 'pae:PA0223', 'pae:PA1010', 'pae:PA4188', 'pae:PA4759', 'pae:PA2887', 'pae:PA2892', 'pae:PA2893', 'pae:PA2889', 'pae:PA2891', 'pae:PA2888', 'pae:PA2890', 'pae:PA2011', 'pae:PA2940', 'pae:PA3013', 'pae:PA3454', 'pae:PA1821', 'pae:PA1748', 'pae:PA3426', 'pae:PA1629', 'pae:PA3014', 'pae:PA1737', 'pae:PA3736', 'pae:PA3666', 'pae:PA0530', 'pae:PA3659', 'pae:PA1162', 'pae:PA5278', 'pae:PA5277', 'pae:PA4417', 'pae:PA4416', 'pae:PA4565', 'pae:PA4007', 'pae:PA2507', 'pae:PA2682', 'pae:PA3498', 'pae:PA2509', 'pae:PA0810', 'pae:PA2086', 'pae:PA2518', 'pae:PA2517', 'pae:PA2516', 'pae:PA2515', 'pae:PA2507', 'pae:PA2508', 'pae:PA0480', 'pae:PA0231', 'pae:PA0228', 'pae:PA0154', 'pae:PA0153', 'pae:PA0230', 'pae:PA0232', 'pae:PA4486', 'pae:PA0247', 'pae:PA0968', 'pae:PA0447', 'pae:PA3590', 'pae:PA1628', 'pae:PA2001', 'pae:PA2553', 'pae:PA3589', 'pae:PA3925', 'pae:PA1736', 'pae:PA4785', 'pae:PA2531', 'pae:PA4447', 'pae:PA3165', 'pae:PA3139', 'pae:PA0870', 'pae:PA1903', 'pae:PA4214', 'pae:PA1902', 'pae:PA4213', 'pae:PA1904', 'pae:PA4215', 'pae:PA4210', 'pae:PA1899', 'pae:PA4211', 'pae:PA1900', 'pae:PA1905', 'pae:PA4216', 'pae:PA4209', 'pae:PA4217', 'pae:PA0609', 'pae:PA1001', 'pae:PA0649', 'pae:PA1002', 'pae:PA0996', 'pae:PA0999', 'pae:PA1000', 'pae:PA0997', 'pae:PA0998', 'pae:PA2587', 'pae:PA1726', 'pae:PA0361', 'pae:PA0164', 'pae:PA1338', 'pae:PA2253', 'pae:PA2444', 'pae:PA5415', 'pae:PA4602', 'pae:PA2193', 'pae:PA2194', 'pae:PA2195', 'pae:PA5302', 'pae:PA4930', 'pae:PA4201', 'pae:PA4410', 'pae:PA3193', 'pae:PA5322', 'pae:PA3818', 'pae:PA5163', 'pae:PA5161', 'pae:PA5164', 'pae:PA5162', 'pae:PA4069', 'pae:PA5163', 'pae:PA3644', 'pae:PA4406', 'pae:PA3646', 'pae:PA1792', 'pae:PA3643', 'pae:PA2981', 'pae:PA4457', 'pae:PA3636', 'pae:PA4458', 'pae:PA2979', 'pae:PA4988', 'pae:PA0011', 'pae:PA3242', 'pae:PA4512', 'pae:PA0936', 'pae:PA1972', 'pae:PA3310', 'pae:PA3556', 'pae:PA4661', 'pae:PA4425', 'pae:PA4996', 'pae:PA0006', 'pae:PA3337', 'pae:PA5011', 'pae:PA5012', 'pae:PA5009', 'pae:PA4517', 'pae:PA5010', 'pae:PA2023', 'pae:PA4068', 'pae:PA1384', 'pae:PA2022', 'pae:PA3559', 'pae:PA5236', 'pae:PA3551', 'pae:PA2232', 'pae:PA5452', 'pae:PA5453', 'pae:PA5454', 'pae:PA5552', 'pae:PA3141', 'pae:PA3146', 'pae:PA3159', 'pae:PA3158', 'pae:PA3155', 'pae:PA3156', 'pae:PA3148', 'pae:PA3150', 'pae:PA4450', 'pae:PA2977', 'pae:PA4411', 'pae:PA4414', 'pae:PA3652', 'pae:PA1959', 'pae:PA4415', 'pae:PA4412', 'pae:PA0378', 'pae:PA5045', 'pae:PA4700', 'pae:PA4003', 'pae:PA4418', 'pae:PA2272', 'pae:PA3999', 'pae:PA3047', 'pae:PA2083', 'pae:PA2085', 'pae:PA5427', 'pae:PA3629', 'pae:PA1027', 'pae:PA4899', 'pae:PA5421', 'pae:PA1982', 'pae:PA0704', 'pae:PA0202', 'pae:PA3366', 'pae:PA4342', 'pae:PA4163', 'pae:PA0954', 'pae:PA4901', 'pae:PA4019', 'pae:PA2512', 'pae:PA2513', 'pae:PA2514', 'pae:PA4904', 'pae:PA4905', 'pae:PA2932', 'pae:PA1334', 'pae:PA4073', 'pae:PA2009', 'pae:PA2473', 'pae:PA2007', 'pae:PA2008', 'pae:PA0704', 'pae:PA0226', 'pae:PA0227', 'pae:PA2035', 'pae:PA4180', 'pae:PA4696', 'pae:PA1417', 'pae:PA3506', 'pae:PA4695', 'pae:PA0882', 'pae:PA1588', 'pae:PA1589', 'pae:PA0878', 'pae:PA0883', 'pae:PA3121', 'pae:PA3120', 'pae:PA3118', 'pae:PA5421', 'pae:PA3628', 'pae:PA4812', 'pae:PA4811', 'pae:PA4810', 'pae:PA4626', 'pae:PA1499', 'pae:PA3635', 'pae:PA3687', 'pae:PA0555', 'pae:PA5110', 'pae:PA0836', 'pae:PA0835', 'pae:PA0887', 'pae:PA4733', 'pae:PA2555', 'pae:PA1770', 'pae:PA5131', 'pae:PA0316', 'pae:PA3167', 'pae:PA4960', 'pae:PA1757', 'pae:PA1027', 'pae:PA1525', 'pae:PA2574', 'pae:PA1631', 'pae:PA4231', 'pae:PA1165', 'pae:PA4230', 'pae:PA4228', 'pae:PA4226', 'pae:PA4225', 'pae:PA4224', 'pae:PA5361', 'pae:PA5360', 'pae:PA3296', 'pae:PA3910', 'pae:PA2548', 'pae:PA5369', 'pae:PA1180', 'pae:PA1179', 'pae:PA0190', 'pae:PA5199', 'pae:PA5200', 'pae:PA1158', 'pae:PA1157', 'pae:PA0766', 'pae:PA0464', 'pae:PA0463', 'pae:PA2528', 'pae:PA2527', 'pae:PA2526', 'pae:PA3552', 'pae:PA1438', 'pae:PA2810', 'pae:PA4886', 'pae:PA2524', 'pae:PA1437', 'pae:PA2523', 'pae:PA4885', 'pae:PA2809', 'pae:PA4777', 'pae:PA4776', 'pae:PA1092', 'pae:PA1455', 'pae:PA1460', 'pae:PA4954', 'pae:PA1636', 'pae:PA1637', 'pae:PA1633', 'pae:PA1634', 'pae:PA1635', 'pae:PA1632', 'pae:PA0757', 'pae:PA0756', 'pae:PA0752', 'pae:PA0753', 'pae:PA0754', 'pae:PA0112', 'pae:PA0001', 'pae:PA0920', 'pae:PA1798', 'pae:PA1799', 'pae:PA0958', 'pae:PA2019', 'pae:PA2018', 'pae:PA0749', 'pae:PA2687', 'pae:PA0930', 'pae:PA0929', 'pae:PA2686', 'pae:PA0931', 'pae:PA2688', 'pae:PA3471', 'pae:PA5262', 'pae:PA5261', 'pae:PA3540', 'pae:PA3878', 'pae:PA3879', 'pae:PA3875', 'pae:PA3874', 'pae:PA3872', 'pae:PA3873', 'pae:PA1980', 'pae:PA4080', 'pae:PA3714', 'pae:PA0928', 'pae:PA2586', 'pae:PA0905', 'pae:PA3946', 'pae:PA2583', 'pae:PA3948', 'pae:PA3045', 'pae:PA3658', 'pae:PA5124', 'pae:PA5125', 'pae:PA0296', 'pae:PA0298', 'pae:PA2040', 'pae:PA5119', 'pae:PA5522', 'pae:PA1566', 'pae:PA3356', 'pae:PA5508', 'pae:PA2002', 'pae:PA5165', 'pae:PA5512', 'pae:PA5166', 'pae:PA5511', 'pae:PA0119', 'pae:PA1183', 'pae:PA4546', 'pae:PA4547', 'pae:PA4462', 'pae:PA4525', 'pae:PA5484', 'pae:PA5483', 'pae:PA0175', 'pae:PA3348', 'pae:PA0180', 'pae:PA0176', 'pae:PA4310', 'pae:PA4633', 'pae:PA2573', 'pae:PA1930', 'pae:PA1608', 'pae:PA2652', 'pae:PA5072', 'pae:PA1646', 'pae:PA4290', 'pae:PA4915', 'pae:PA1423', 'pae:PA4309', 'pae:PA4307', 'pae:PA2561', 'pae:PA2654', 'pae:PA2920', 'pae:PA4520', 'pae:PA1251', 'pae:PA1561', 'pae:PA0177', 'pae:PA1464', 'pae:PA1463', 'pae:PA0178', 'pae:PA1458', 'pae:PA0179', 'pae:PA1456', 'pae:PA0173', 'pae:PA1459', 'pae:PA3349', 'pae:PA0412', 'pae:PA0411', 'pae:PA0410', 'pae:PA0413', 'pae:PA0408', 'pae:PA0409', 'pae:PA0414', 'pae:PA0415', 'pae:PA3706', 'pae:PA3708', 'pae:PA3707', 'pae:PA3705', 'pae:PA3704', 'pae:PA3703', 'pae:PA3702', 'pae:PA5167', 'pae:PA4616', 'pae:PA0884', 'pae:PA0885', 'pae:PA5168', 'pae:PA5169', 'pae:PA0886', 'pae:PA1097', 'pae:PA1098', 'pae:PA1099', 'pae:PA1336', 'pae:PA1335', 'pae:PA1339', 'pae:PA1340', 'pae:PA1341', 'pae:PA1342', 'pae:PA1337', 'pae:PA0652', 'pae:PA0275', 'pae:PA1638', 'pae:PA4494', 'pae:PA4493', 'pae:PA4431', 'pae:PA4430', 'pae:PA4429', 'pae:PA0518', 'pae:PA4133', 'pae:PA1554', 'pae:PA1557', 'pae:PA1856', 'pae:PA1553', 'pae:PA1556', 'pae:PA1552', 'pae:PA1552', 'pae:PA1555', 'pae:PA3930', 'pae:PA3929', 'pae:PA4974', 'pae:PA4144', 'pae:PA4592', 'pae:PA2978', 'pae:PA3476', 'pae:PA3899', 'pae:PA2050', 'pae:PA0472', 'pae:PA3900', 'pae:PA3409', 'pae:PA2051', 'pae:PA2824', 'pae:PA1611', 'pae:PA1976', 'pae:PA3345', 'pae:PA3346', 'pae:PA3347', 'pae:PA3351', 'pae:PA4944', 'pae:PA1432', 'pae:PA1430', 'pae:PA1003', 'pae:PA3477', 'pae:PA3479', 'pae:PA3478', 'pae:PA1130', 'pae:PA1871', 'pae:PA3724', 'pae:PA2570', 'pae:PA-I g', 'pae:PA2569', 'pae:PA1750', 'pae:PA1901', 'pae:PA2843', 'pae:PA2943', 'pae:PA4212', 'pae:PA1903', 'pae:PA4804', 'pae:PA0709', 'pae:PA0295', 'pae:PA0602', 'pae:PA0604', 'pae:PA0222', 'pae:PA3250', 'pae:PA4985', 'pae:PA0606', 'pae:PA3253', 'pae:PA0605', 'pae:PA3252', 'pae:PA0603', 'pae:PA3254', 'pae:PA1074', 'pae:PA4913', 'pae:PA3364', 'pae:PA1073', 'pae:PA4912', 'pae:PA1072', 'pae:PA4911', 'pae:PA1071', 'pae:PA4910', 'pae:PA1070', 'pae:PA4909', 'pae:PA1874', 'pae:PA3361', 'pae:PA-IIL', 'pae:PA3299', 'pae:PA3300', 'pae:PA5499', 'pae:PA4047', 'pae:PA4056', 'pae:PA4815', 'pae:PA3320', 'pae:PA4206', 'pae:PA4207', 'pae:PA0427', 'pae:PA4497', 'pae:PA5317', 'pae:PA5568', 'pae:PA4276', 'pae:PA4747', 'pae:PA4243', 'pae:PA3822', 'pae:PA4403', 'pae:PA0373', 'pae:PA5128', 'pae:PA3746', 'pae:PA0844', 'pae:PA3319', 'pae:PA0411', 'pae:PA3217', 'pae:PA4969', 'pae:PA1713', 'pae:PA3974', 'pae:PA4856', 'pae:PA0527', 'pae:PA3621', 'pae:PA0074', 'pae:PA1670', 'pae:PA0075', 'pae:PA0076', 'pae:PA1669', 'pae:PA2361', 'pae:PA0077', 'pae:PA1667', 'pae:PA2363', 'pae:PA0079', 'pae:PA0081', 'pae:PA0082', 'pae:PA2360', 'pae:PA1657', 'pae:PA0083', 'pae:PA2365', 'pae:PA0084', 'pae:PA2366', 'pae:PA1658', 'pae:PA1512', 'pae:PA2367', 'pae:PA0263', 'pae:PA5267', 'pae:PA0085', 'pae:PA2370', 'pae:PA1661', 'pae:PA0089', 'pae:PA1662', 'pae:PA0090', 'pae:PA2371', 'pae:PA4332', 'pae:PA0169', 'pae:PA1120', 'pae:PA1107', 'pae:PA1727', 'pae:PA4367', 'pae:PA2231', 'pae:PA2233', 'pae:PA2234', 'pae:PA2235', 'pae:PA2236', 'pae:PA2237', 'pae:PA2238', 'pae:PA2239', 'pae:PA2240', 'pae:PA2241', 'pae:PA2242', 'pae:PA3064', 'pae:PA3063', 'pae:PA3062', 'pae:PA3061', 'pae:PA3060', 'pae:PA3059', 'pae:PA3058', 'pae:PA3542', 'pae:PA4959', 'pae:PA4958', 'pae:PA0180', 'pae:PA1946', 'pae:PA4496', 'pae:PA4500', 'pae:PA4502', 'pae:PA1457', 'pae:PA0174', 'pae:PA1102', 'pae:PA1443', 'pae:PA1444', 'pae:PA1461', 'pae:PA4953', 'pae:PA1100', 'pae:PA1101', 'pae:PA1103', 'pae:PA1104', 'pae:PA1105', 'pae:PA1441', 'pae:PA1442', 'pae:PA5233', 'pae:PA1445', 'pae:PA1446', 'pae:PA1447', 'pae:PA1448', 'pae:PA1452', 'pae:PA1449', 'pae:PA3350', 'pae:PA1077', 'pae:PA1078', 'pae:PA1079', 'pae:PA1080', 'pae:PA1081', 'pae:PA1082', 'pae:PA1083', 'pae:PA1084', 'pae:PA1085', 'pae:PA1086', 'pae:PA1087', 'pae:PA3526', 'pae:PA1094', 'pae:PA1095', 'pae:PA1096', 'pae:PA3352', 'pae:PA0314', 'pae:PA0576', 'pae:PA4466', 'pae:PA3761', 'pae:PA3562', 'pae:PA3760', 'pae:PA3560', 'pae:PA3561', 'pae:PA0337', 'pae:PA4464', 'pae:PA4974', 'pae:PA1719', 'pae:PA1696', 'pae:PA1695', 'pae:PA1701', 'pae:PA1716', 'pae:PA1698', 'pae:PA1723', 'pae:PA1693', 'pae:PA1692', 'pae:PA1691', 'pae:PA1690', 'pae:PA1703', 'pae:PA1697', 'pae:PA1694', 'pae:PA1725', 'pae:PA1868', 'pae:PA3105', 'pae:PA1382', 'pae:PA0685', 'pae:PA1867', 'pae:PA3104', 'pae:PA0679', 'pae:PA0687', 'pae:PA2676', 'pae:PA3102', 'pae:PA0681', 'pae:PA2675', 'pae:PA3101', 'pae:PA2674', 'pae:PA3100', 'pae:PA0678', 'pae:PA0680', 'pae:PA3099', 'pae:PA2673', 'pae:PA3098', 'pae:PA0677', 'pae:PA2672', 'pae:PA0682', 'pae:PA3097', 'pae:PA0683', 'pae:PA3096', 'pae:PA0684', 'pae:PA3095', 'pae:PA2677', 'pae:PA3103', 'pae:PA5210', 'pae:PA0686', 'pae:PA3821', 'pae:PA3820', 'pae:PA5068', 'pae:PA5069', 'pae:PA5070', 'pae:PA0262', 'pae:PA3294', 'pae:PA3486', 'pae:PA1511', 'pae:PA5266', 'pae:PA2685', 'pae:PA0095', 'pae:PA0091', 'pae:PA2373', 'pae:PA0080', 'pae:PA1666', 'pae:PA1668', 'pae:PA2362', 'pae:PA0078']\n"
     ]
    }
   ],
   "source": [
    "with open('u_kegg_pae.txt') as f:     #change here \n",
    "    uniquekeggid = f.read().splitlines()\n",
    "\n",
    "print(type(uniquekeggid))\n",
    "print(uniquekeggid)"
   ]
  },
  {
   "cell_type": "code",
   "execution_count": 4,
   "metadata": {},
   "outputs": [
    {
     "name": "stdout",
     "output_type": "stream",
     "text": [
      "{'pae:PA0001': 'up:Q9I7C5', 'pae:PA0006': 'up:Q9I7C0', 'pae:PA0555': 'up:Q9I5Y1', 'pae:PA0576': 'up:P26480', 'pae:PA0678': 'up:Q9I5P7', 'pae:PA0904': 'up:O69077', 'pae:PA1010': 'up:Q9I4W3', 'pae:PA1162': 'up:Q9I4H5', 'pae:PA1588': 'up:P53593', 'pae:PA1589': 'up:Q51567', 'pae:PA1792': 'up:Q9I2V0', 'pae:PA2977': 'up:Q9HZM7', 'pae:PA2979': 'up:Q9HZM5', 'pae:PA2981': 'up:Q9HZM3', 'pae:PA3117': 'up:Q51344', 'pae:PA3148': 'up:G3XD61', 'pae:PA3155': 'up:Q9HZ76', 'pae:PA3156': 'up:G3XD01', 'pae:PA3158': 'up:G3XD23', 'pae:PA3159': 'up:G3XD94', 'pae:PA3167': 'up:Q9HZ66', 'pae:PA3636': 'up:Q9ZFK4', 'pae:PA3643': 'up:Q9HXY8', 'pae:PA3644': 'up:Q9X6P4', 'pae:PA3646': 'up:Q9HXY6', 'pae:PA3652': 'up:Q9HXY2', 'pae:PA3666': 'up:G3XD76', 'pae:PA3703': 'up:Q9HXT8', 'pae:PA3821': 'up:Q9HXI1', 'pae:PA4003': 'up:Q9X6V3', 'pae:PA4019': 'up:Q9HX08', 'pae:PA4068': 'up:Q9HWW0', 'pae:PA4243': 'up:Q9HWF5', 'pae:PA4403': 'up:Q9LCT3', 'pae:PA4406': 'up:P47205', 'pae:PA4411': 'up:Q9HW02', 'pae:PA4412': 'up:Q9HW01', 'pae:PA4414': 'up:Q9HVZ9', 'pae:PA4415': 'up:Q9HVZ8', 'pae:PA4416': 'up:Q9HVZ7', 'pae:PA4417': 'up:Q59650', 'pae:PA4418': 'up:Q51504', 'pae:PA4425': 'up:Q9HVZ0', 'pae:PA4429': 'up:Q9HVY6', 'pae:PA4450': 'up:Q9HVW7', 'pae:PA4602': 'up:Q9HVI7', 'pae:PA4759': 'up:P38103', 'pae:PA4969': 'up:Q9HUJ6', 'pae:PA4988': 'up:Q9HUH7', 'pae:PA4996': 'up:Q9HUG9', 'pae:PA5009': 'up:Q9HUF7', 'pae:PA5010': 'up:Q9HUF6', 'pae:PA5011': 'up:Q9HUF5', 'pae:PA5012': 'up:O05196', 'pae:PA5110': 'up:Q9HU73', 'pae:PA5119': 'up:Q9HU65', 'pae:PA5161': 'up:Q9HU24', 'pae:PA5162': 'up:Q9HU23', 'pae:PA5163': 'up:Q9HU22', 'pae:PA5164': 'up:Q9HU21', 'pae:PA5278': 'up:Q51564', 'pae:PA5552': 'up:Q9HT22', 'pae:PA5568': 'up:Q9HT06'}\n",
      "63\n",
      "['up:Q9I7C5', 'up:Q9I7C0', 'up:Q9I5Y1', 'up:P26480', 'up:Q9I5P7', 'up:O69077', 'up:Q9I4W3', 'up:Q9I4H5', 'up:P53593', 'up:Q51567', 'up:Q9I2V0', 'up:Q9HZM7', 'up:Q9HZM5', 'up:Q9HZM3', 'up:Q51344', 'up:G3XD61', 'up:Q9HZ76', 'up:G3XD01', 'up:G3XD23', 'up:G3XD94', 'up:Q9HZ66', 'up:Q9ZFK4', 'up:Q9HXY8', 'up:Q9X6P4', 'up:Q9HXY6', 'up:Q9HXY2', 'up:G3XD76', 'up:Q9HXT8', 'up:Q9HXI1', 'up:Q9X6V3', 'up:Q9HX08', 'up:Q9HWW0', 'up:Q9HWF5', 'up:Q9LCT3', 'up:P47205', 'up:Q9HW02', 'up:Q9HW01', 'up:Q9HVZ9', 'up:Q9HVZ8', 'up:Q9HVZ7', 'up:Q59650', 'up:Q51504', 'up:Q9HVZ0', 'up:Q9HVY6', 'up:Q9HVW7', 'up:Q9HVI7', 'up:P38103', 'up:Q9HUJ6', 'up:Q9HUH7', 'up:Q9HUG9', 'up:Q9HUF7', 'up:Q9HUF6', 'up:Q9HUF5', 'up:O05196', 'up:Q9HU73', 'up:Q9HU65', 'up:Q9HU24', 'up:Q9HU23', 'up:Q9HU22', 'up:Q9HU21', 'up:Q51564', 'up:Q9HT22', 'up:Q9HT06']\n"
     ]
    }
   ],
   "source": [
    "uniquedict={}\n",
    "for key,values in keggiddict.items():\n",
    "    for i in uniquekeggid:\n",
    "        if i == key:\n",
    "            uniquedict[i] = keggiddict[key]\n",
    "print(uniquedict)\n",
    "print(len(uniquedict))\n",
    "\n",
    "#unique_gene = list(uniquedict.keys())\n",
    "unique_up = list(uniquedict.values())\n",
    "print(unique_up)"
   ]
  },
  {
   "cell_type": "code",
   "execution_count": 5,
   "metadata": {},
   "outputs": [
    {
     "name": "stdout",
     "output_type": "stream",
     "text": [
      "['Q9I7C5', 'Q9I7C0', 'Q9I5Y1', 'P26480', 'Q9I5P7', 'O69077', 'Q9I4W3', 'Q9I4H5', 'P53593', 'Q51567', 'Q9I2V0', 'Q9HZM7', 'Q9HZM5', 'Q9HZM3', 'Q51344', 'G3XD61', 'Q9HZ76', 'G3XD01', 'G3XD23', 'G3XD94', 'Q9HZ66', 'Q9ZFK4', 'Q9HXY8', 'Q9X6P4', 'Q9HXY6', 'Q9HXY2', 'G3XD76', 'Q9HXT8', 'Q9HXI1', 'Q9X6V3', 'Q9HX08', 'Q9HWW0', 'Q9HWF5', 'Q9LCT3', 'P47205', 'Q9HW02', 'Q9HW01', 'Q9HVZ9', 'Q9HVZ8', 'Q9HVZ7', 'Q59650', 'Q51504', 'Q9HVZ0', 'Q9HVY6', 'Q9HVW7', 'Q9HVI7', 'P38103', 'Q9HUJ6', 'Q9HUH7', 'Q9HUG9', 'Q9HUF7', 'Q9HUF6', 'Q9HUF5', 'O05196', 'Q9HU73', 'Q9HU65', 'Q9HU24', 'Q9HU23', 'Q9HU22', 'Q9HU21', 'Q51564', 'Q9HT22', 'Q9HT06']\n",
      "63\n"
     ]
    }
   ],
   "source": [
    "unique_essential_up = []\n",
    "for i in unique_up:\n",
    "    j = i.replace('up:','')\n",
    "    unique_essential_up.append(j)\n",
    "print(unique_essential_up)\n",
    "print(len(unique_essential_up))"
   ]
  },
  {
   "cell_type": "code",
   "execution_count": 6,
   "metadata": {},
   "outputs": [
    {
     "name": "stdout",
     "output_type": "stream",
     "text": [
      "Q9I7C5\n",
      "Q9I7C0\n",
      "Q9I5Y1\n",
      "P26480\n",
      "Q9I5P7\n",
      "O69077\n",
      "Q9I4W3\n",
      "Q9I4H5\n",
      "P53593\n",
      "Q51567\n",
      "Q9I2V0\n",
      "Q9HZM7\n",
      "Q9HZM5\n",
      "Q9HZM3\n",
      "Q51344\n",
      "G3XD61\n",
      "Q9HZ76\n",
      "G3XD01\n",
      "G3XD23\n",
      "G3XD94\n",
      "Q9HZ66\n",
      "Q9ZFK4\n",
      "Q9HXY8\n",
      "Q9X6P4\n",
      "Q9HXY6\n",
      "Q9HXY2\n",
      "G3XD76\n",
      "Q9HXT8\n",
      "Q9HXI1\n",
      "Q9X6V3\n",
      "Q9HX08\n",
      "Q9HWW0\n",
      "Q9HWF5\n",
      "Q9LCT3\n",
      "P47205\n",
      "Q9HW02\n",
      "Q9HW01\n",
      "Q9HVZ9\n",
      "Q9HVZ8\n",
      "Q9HVZ7\n",
      "Q59650\n",
      "Q51504\n",
      "Q9HVZ0\n",
      "Q9HVY6\n",
      "Q9HVW7\n",
      "Q9HVI7\n",
      "P38103\n",
      "Q9HUJ6\n",
      "Q9HUH7\n",
      "Q9HUG9\n",
      "Q9HUF7\n",
      "Q9HUF6\n",
      "Q9HUF5\n",
      "O05196\n",
      "Q9HU73\n",
      "Q9HU65\n",
      "Q9HU24\n",
      "Q9HU23\n",
      "Q9HU22\n",
      "Q9HU21\n",
      "Q51564\n",
      "Q9HT22\n",
      "Q9HT06\n"
     ]
    }
   ],
   "source": [
    "for i in unique_essential_up:\n",
    "    print(i)"
   ]
  },
  {
   "cell_type": "code",
   "execution_count": null,
   "metadata": {},
   "outputs": [],
   "source": []
  }
 ],
 "metadata": {
  "kernelspec": {
   "display_name": "Python 3",
   "language": "python",
   "name": "python3"
  },
  "language_info": {
   "codemirror_mode": {
    "name": "ipython",
    "version": 3
   },
   "file_extension": ".py",
   "mimetype": "text/x-python",
   "name": "python",
   "nbconvert_exporter": "python",
   "pygments_lexer": "ipython3",
   "version": "3.8.3"
  }
 },
 "nbformat": 4,
 "nbformat_minor": 4
}
