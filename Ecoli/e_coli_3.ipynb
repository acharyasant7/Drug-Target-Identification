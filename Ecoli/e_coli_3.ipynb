{
 "cells": [
  {
   "cell_type": "code",
   "execution_count": 1,
   "metadata": {},
   "outputs": [],
   "source": [
    "import ast"
   ]
  },
  {
   "cell_type": "code",
   "execution_count": 2,
   "metadata": {},
   "outputs": [
    {
     "name": "stdout",
     "output_type": "stream",
     "text": [
      "<class 'dict'>\n",
      "{'eco:b0014': 'up:P0A6Y8', 'eco:b0023': 'up:P0A7U7', 'eco:b0025': 'up:P0AG40', 'eco:b0026': 'up:P00956', 'eco:b0027': 'up:P00804', 'eco:b0029': 'up:P62623', 'eco:b0031': 'up:P04036', 'eco:b0048': 'up:P0ABQ4', 'eco:b0054': 'up:P31554', 'eco:b0083': 'up:P0AEN4', 'eco:b0084': 'up:P0AD68', 'eco:b0085': 'up:P22188', 'eco:b0086': 'up:P11880', 'eco:b0087': 'up:P0A6W3', 'eco:b0088': 'up:P14900', 'eco:b0089': 'up:P0ABG4', 'eco:b0090': 'up:P17443', 'eco:b0091': 'up:P17952', 'eco:b0093': 'up:P06136', 'eco:b0094': 'up:P0ABH0', 'eco:b0095': 'up:P0A9A6', 'eco:b0096': 'up:P0A725', 'eco:b0097': 'up:P62395', 'eco:b0098': 'up:P10408', 'eco:b0103': 'up:P0A6I9', 'eco:b0126': 'up:P61517', 'eco:b0142': 'up:P26281', 'eco:b0154': 'up:P23893', 'eco:b0156': 'up:P0ACC3', 'eco:b0166': 'up:P0A9D8', 'eco:b0168': 'up:P0AE18', 'eco:b0169': 'up:P0A7V0', 'eco:b0170': 'up:P0A6P1', 'eco:b0171': 'up:P0A7E9', 'eco:b0172': 'up:P0A805', 'eco:b0173': 'up:P45568', 'eco:b0174': 'up:P60472', 'eco:b0175': 'up:P0ABG1', 'eco:b0176': 'up:P0AEH1', 'eco:b0177': 'up:P0A940', 'eco:b0179': 'up:P21645', 'eco:b0180': 'up:P0A6Q6', 'eco:b0181': 'up:P0A722', 'eco:b0182': 'up:P10441', 'eco:b0184': 'up:P10443', 'eco:b0185': 'up:P0ABD5', 'eco:b0188': 'up:P52097', 'eco:b0194': 'up:P16659', 'eco:b0270': 'up:P75683', 'eco:b0369': 'up:P0ACB2', 'eco:b0408': 'up:P0AG90', 'eco:b0409': 'up:P0AG93', 'eco:b0414': 'up:P25539', 'eco:b0415': 'up:P61714', 'eco:b0417': 'up:P0AGG0', 'eco:b0420': 'up:P77488', 'eco:b0421': 'up:P22939', 'eco:b0470': 'up:P06710', 'eco:b0474': 'up:P69441', 'eco:b0475': 'up:P23871', 'eco:b0524': 'up:P43341', 'eco:b0526': 'up:P21888', 'eco:b0529': 'up:P24186', 'eco:b0583': 'up:P19925', 'eco:b0634': 'up:P0ABG7', 'eco:b0635': 'up:P0AD65', 'eco:b0639': 'up:P0A752', 'eco:b0640': 'up:P28630', 'eco:b0641': 'up:P0ADC1', 'eco:b0642': 'up:P07813', 'eco:b0657': 'up:P23930', 'eco:b0659': 'up:P0A898', 'eco:b0680': 'up:P00962', 'eco:b0684': 'up:P61949', 'eco:b0733': 'up:P0ABJ9', 'eco:b0884': 'up:P69222', 'eco:b0886': 'up:P23886', 'eco:b0890': 'up:P46889', 'eco:b0891': 'up:P61316', 'eco:b0893': 'up:P0A8L1', 'eco:b0910': 'up:P0A6I0', 'eco:b0911': 'up:P0AG67', 'eco:b0914': 'up:P60752', 'eco:b0915': 'up:P27300', 'eco:b0918': 'up:P04951', 'eco:b0922': 'up:P60293', 'eco:b0923': 'up:P22524', 'eco:b0924': 'up:P22523', 'eco:b0930': 'up:P0A8M0', 'eco:b0954': 'up:P0A6Q3', 'eco:b1069': 'up:P0AF16', 'eco:b1084': 'up:P21513', 'eco:b1085': 'up:P62066', 'eco:b1091': 'up:P0A6R0', 'eco:b1092': 'up:P0AAI9', 'eco:b1093': 'up:P0AEK2', 'eco:b1094': 'up:P0A6A8', 'eco:b1098': 'up:P0A720', 'eco:b1099': 'up:P28631', 'eco:b1116': 'up:P0ADC3', 'eco:b1117': 'up:P75957', 'eco:b1118': 'up:P75958', 'eco:b1131': 'up:P0AB89', 'eco:b1133': 'up:P25745', 'eco:b1145': 'up:P75974', 'eco:b1174': 'up:P0A734', 'eco:b1175': 'up:P0AEZ3', 'eco:b1204': 'up:P0A7D1', 'eco:b1207': 'up:P0A717', 'eco:b1208': 'up:P62615', 'eco:b1209': 'up:P61320', 'eco:b1210': 'up:P0A6X1', 'eco:b1211': 'up:P0A7I0', 'eco:b1212': 'up:P0ACC1', 'eco:b1215': 'up:P0A715', 'eco:b1274': 'up:P06612', 'eco:b1277': 'up:P0A7I7', 'eco:b1288': 'up:P0AEK4', 'eco:b1356': 'up:P76062', 'eco:b1570': 'up:P06966', 'eco:b1572': 'up:P29009', 'eco:b1637': 'up:P0AGJ9', 'eco:b1662': 'up:P0AFU8', 'eco:b1689': 'up:P76196', 'eco:b1713': 'up:P07395', 'eco:b1714': 'up:P08312', 'eco:b1716': 'up:P0A7L3', 'eco:b1717': 'up:P0A7Q1', 'eco:b1718': 'up:P0A707', 'eco:b1719': 'up:P0A8M3', 'eco:b1740': 'up:P18843', 'eco:b1779': 'up:P0A9B2', 'eco:b1807': 'up:P76256', 'eco:b1866': 'up:P21889', 'eco:b1876': 'up:P11875', 'eco:b1912': 'up:P0ABF8', 'eco:b2017': 'up:P69346', 'eco:b2114': 'up:P00959', 'eco:b2153': 'up:P0A6T5', 'eco:b2188': 'up:P0AD27', 'eco:b2231': 'up:P0AES4', 'eco:b2234': 'up:P00452', 'eco:b2235': 'up:P69924', 'eco:b2315': 'up:P08192', 'eco:b2316': 'up:P0A9Q5', 'eco:b2323': 'up:P0A953', 'eco:b2400': 'up:P04805', 'eco:b2411': 'up:P15042', 'eco:b2412': 'up:P77173', 'eco:b2472': 'up:P0AED7', 'eco:b2478': 'up:P0A6L2', 'eco:b2511': 'up:P0A6P5', 'eco:b2514': 'up:P60906', 'eco:b2515': 'up:P62620', 'eco:b2530': 'up:P0A6B7', 'eco:b2533': 'up:P0ADG4', 'eco:b2559': 'up:P68398', 'eco:b2563': 'up:P24224', 'eco:b2566': 'up:P06616', 'eco:b2567': 'up:P0A7Y0', 'eco:b2568': 'up:P00803', 'eco:b2573': 'up:P0AGB6', 'eco:b2585': 'up:P23830', 'eco:b2595': 'up:P0AC02', 'eco:b2606': 'up:P0A7K6', 'eco:b2607': 'up:P0A873', 'eco:b2608': 'up:P0A7X6', 'eco:b2609': 'up:P0A7T3', 'eco:b2610': 'up:P0AGD7', 'eco:b2614': 'up:P09372', 'eco:b2615': 'up:P0A7B3', 'eco:b2696': 'up:P69913', 'eco:b2697': 'up:P00957', 'eco:b2746': 'up:P62617', 'eco:b2747': 'up:Q46893', 'eco:b2748': 'up:P0A6S5', 'eco:b2779': 'up:P0A6P9', 'eco:b2780': 'up:P0A7E5', 'eco:b2783': 'up:P0AE72', 'eco:b2827': 'up:P0A884', 'eco:b2828': 'up:P60955', 'eco:b2891': 'up:P07012', 'eco:b2925': 'up:P0AB71', 'eco:b2926': 'up:P0A799', 'eco:b2942': 'up:P0A817', 'eco:b2949': 'up:P0A8I1', 'eco:b3018': 'up:P26647', 'eco:b3021': 'up:Q46864', 'eco:b3030': 'up:P20083', 'eco:b3041': 'up:P0A7J0', 'eco:b3056': 'up:P06961', 'eco:b3064': 'up:P05852', 'eco:b3066': 'up:P0ABS5', 'eco:b3067': 'up:P00579', 'eco:b3113': 'up:P0AGL2', 'eco:b3146': 'up:P67087', 'eco:b3159': 'up:P45475', 'eco:b3168': 'up:P0A705', 'eco:b3169': 'up:P0AFF6', 'eco:b3176': 'up:P31120', 'eco:b3178': 'up:P0AAI3', 'eco:b3183': 'up:P42641', 'eco:b3185': 'up:P0A7L8', 'eco:b3186': 'up:P0AG48', 'eco:b3187': 'up:P0AD57', 'eco:b3189': 'up:P0A749', 'eco:b3191': 'up:P64602', 'eco:b3199': 'up:P0ADV9', 'eco:b3200': 'up:P0ADV1', 'eco:b3230': 'up:P0A7X3', 'eco:b3231': 'up:P0AA10', 'eco:b3235': 'up:P0AEE3', 'eco:b3249': 'up:P0ABH4', 'eco:b3250': 'up:P16926', 'eco:b3251': 'up:P0A9X4', 'eco:b3255': 'up:P0ABD8', 'eco:b3256': 'up:P24182', 'eco:b3282': 'up:P45748', 'eco:b3287': 'up:P0A6K3', 'eco:b3288': 'up:P23882', 'eco:b3294': 'up:P0AG44', 'eco:b3295': 'up:P0A7Z4', 'eco:b3296': 'up:P0A7V8', 'eco:b3297': 'up:P0A7R9', 'eco:b3298': 'up:P0A7S9', 'eco:b3300': 'up:P0AGA2', 'eco:b3301': 'up:P02413', 'eco:b3302': 'up:P0AG51', 'eco:b3303': 'up:P0A7W1', 'eco:b3304': 'up:P0C018', 'eco:b3305': 'up:P0AG55', 'eco:b3306': 'up:P0A7W7', 'eco:b3307': 'up:P0AG59', 'eco:b3308': 'up:P62399', 'eco:b3309': 'up:P60624', 'eco:b3310': 'up:P0ADY3', 'eco:b3311': 'up:P0AG63', 'eco:b3312': 'up:P0A7M6', 'eco:b3313': 'up:P0ADY7', 'eco:b3314': 'up:P0A7V3', 'eco:b3315': 'up:P61175', 'eco:b3316': 'up:P0A7U3', 'eco:b3317': 'up:P60422', 'eco:b3318': 'up:P0ADZ0', 'eco:b3319': 'up:P60723', 'eco:b3320': 'up:P60438', 'eco:b3321': 'up:P0A7R5', 'eco:b3340': 'up:P0A6M8', 'eco:b3341': 'up:P02359', 'eco:b3342': 'up:P0A7S3', 'eco:b3384': 'up:P00954', 'eco:b3398': 'up:P45800', 'eco:b3433': 'up:P0A9Q9', 'eco:b3461': 'up:P0AGB3', 'eco:b3462': 'up:P0AC30', 'eco:b3463': 'up:P0A9R7', 'eco:b3464': 'up:P10121', 'eco:b3471': 'up:P37619', 'eco:b3532': 'up:P37652', 'eco:b3559': 'up:P00961', 'eco:b3560': 'up:P00960', 'eco:b3608': 'up:P0A6S7', 'eco:b3623': 'up:P27242', 'eco:b3633': 'up:P0AC75', 'eco:b3634': 'up:P0A6I6', 'eco:b3637': 'up:P0A7M2', 'eco:b3639': 'up:P0ABQ0', 'eco:b3640': 'up:P06968', 'eco:b3648': 'up:P60546', 'eco:b3650': 'up:P0AG24', 'eco:b3699': 'up:P0AES6', 'eco:b3701': 'up:P0A988', 'eco:b3702': 'up:P03004', 'eco:b3703': 'up:P0A7P5', 'eco:b3704': 'up:P0A7Y8', 'eco:b3705': 'up:P25714', 'eco:b3709': 'up:P23173', 'eco:b3729': 'up:P17169', 'eco:b3730': 'up:P0ACC7', 'eco:b3732': 'up:P0ABB4', 'eco:b3733': 'up:P0ABA6', 'eco:b3734': 'up:P0ABB0', 'eco:b3793': 'up:P27835', 'eco:b3804': 'up:P09126', 'eco:b3805': 'up:P06983', 'eco:b3833': 'up:P0A887', 'eco:b3834': 'up:P0ADP7', 'eco:b3835': 'up:P0A6A0', 'eco:b3843': 'up:P0AAB4', 'eco:b3850': 'up:P0ACB4', 'eco:b3865': 'up:P0A6P7', 'eco:b3919': 'up:P0A858', 'eco:b3933': 'up:P29131', 'eco:b3967': 'up:P22634', 'eco:b3972': 'up:P08373', 'eco:b3973': 'up:P06709', 'eco:b3981': 'up:P0AG96', 'eco:b3982': 'up:P0AFG0', 'eco:b3983': 'up:P0A7J7', 'eco:b3984': 'up:P0A7L0', 'eco:b3985': 'up:P0A7J3', 'eco:b3986': 'up:P0A7K2', 'eco:b3987': 'up:P0A8V2', 'eco:b3988': 'up:P0A8T7', 'eco:b4025': 'up:P0A6T1', 'eco:b4040': 'up:P0AGK1', 'eco:b4041': 'up:P0A7A7', 'eco:b4043': 'up:P0A7C2', 'eco:b4052': 'up:P0ACB0', 'eco:b4059': 'up:P0AGE0', 'eco:b4084': 'up:P32718', 'eco:b4142': 'up:P0A6F9', 'eco:b4143': 'up:P0A6F5', 'eco:b4160': 'up:P0A8K1', 'eco:b4162': 'up:P0A784', 'eco:b4168': 'up:P0AF67', 'eco:b4200': 'up:P02358', 'eco:b4202': 'up:P0A7T7', 'eco:b4224': 'up:P08365', 'eco:b4226': 'up:P0A7A9', 'eco:b4258': 'up:P07118', 'eco:b4261': 'up:P0AF98', 'eco:b4262': 'up:P0ADC6', 'eco:b4361': 'up:P0AEF0'}\n"
     ]
    }
   ],
   "source": [
    "file = open('keggiddict_eco.txt','r')   #change here\n",
    "contents = file.read()\n",
    "keggiddict = ast.literal_eval(contents)\n",
    "file.close()\n",
    "print(type(keggiddict))\n",
    "print(keggiddict)"
   ]
  },
  {
   "cell_type": "code",
   "execution_count": 3,
   "metadata": {},
   "outputs": [
    {
     "name": "stdout",
     "output_type": "stream",
     "text": [
      "<class 'list'>\n",
      "['eco:b1619', 'eco:b2751', 'eco:bunit', 'eco:b2752', 'eco:bunit', 'eco:b4024', 'eco:b0002', 'eco:b3940', 'eco:b3433', 'eco:b2478', 'eco:b0031', 'eco:b4269', 'eco:b2342', 'eco:b3845', 'eco:b1393', 'eco:b3846', 'eco:butyr', 'eco:b2341', 'eco:b4024', 'eco:b0166', 'eco:b3359', 'eco:b2472', 'eco:b3809', 'eco:b2838', 'eco:boxyl', 'eco:b0085', 'eco:b0086', 'eco:b0242', 'eco:b0243', 'eco:b3830', 'eco:b2342', 'eco:b0350', 'eco:b0352', 'eco:b0351', 'eco:b1461', 'eco:b1395', 'eco:b2224', 'eco:b2844', 'eco:b2600', 'eco:b0928', 'eco:b2021', 'eco:b4054', 'eco:b2132', 'eco:bglX;', 'eco:beta-', 'eco:b3447', 'eco:b1767', 'eco:b2957', 'eco:b0828', 'eco:b3744', 'eco:b2551', 'eco:b1190', 'eco:b4053', 'eco:b0381', 'eco:b0092', 'eco:b2388', 'eco:b0688', 'eco:b2533', 'eco:b3789', 'eco:b2039', 'eco:bA; d', 'eco:b3788', 'eco:b2041', 'eco:bB; d', 'eco:b2038', 'eco:bC; d', 'eco:b2040', 'eco:bD; d', 'eco:b3789', 'eco:b0181', 'eco:b0096', 'eco:b0179', 'eco:b0524', 'eco:b0182', 'eco:b0915', 'eco:b3197', 'eco:binos', 'eco:b1215', 'eco:b3198', 'eco:b0918', 'eco:b3633', 'eco:b1054', 'eco:b1855', 'eco:b2174', 'eco:b4114', 'eco:b3546', 'eco:b0622', 'eco:b2257', 'eco:binos', 'eco:b2378', 'eco:b0222', 'eco:b3052', 'eco:b0200', 'eco:beta-', 'eco:bisph', 'eco:b3619', 'eco:b3621', 'eco:b3620', 'eco:b3630', 'eco:b3955', 'eco:b3632', 'eco:b3615', 'eco:b3625', 'eco:b3624', 'eco:biosy', 'eco:b3629', 'eco:biosy', 'eco:b3631', 'eco:b3628', 'eco:b3627', 'eco:b3626', 'eco:b3623', 'eco:b3622', 'eco:b1236', 'eco:b2042', 'eco:b0759', 'eco:b2036', 'eco:b2028', 'eco:b3791', 'eco:b3790', 'eco:b1613', 'eco:b2048', 'eco:b2049', 'eco:b2053', 'eco:b2052', 'eco:b3730', 'eco:b3786', 'eco:b3787', 'eco:b3189', 'eco:boxyv', 'eco:b3972', 'eco:b0091', 'eco:b0088', 'eco:b0174', 'eco:b3057', 'eco:bacA;', 'eco:b0841', 'eco:bjG; ', 'eco:b0087', 'eco:b0090', 'eco:b3208', 'eco:b3396', 'eco:b0149', 'eco:b2519', 'eco:bpC; ', 'eco:bpC [', 'eco:b0635', 'eco:b0084', 'eco:b0839', 'eco:boxyp', 'eco:b2010', 'eco:boxyp', 'eco:b0632', 'eco:boxyp', 'eco:b3182', 'eco:b2430', 'eco:bindi', 'eco:b1461', 'eco:b1478', 'eco:b3589', 'eco:b0356', 'eco:b1241', 'eco:b0968', 'eco:b2311', 'eco:biX; ', 'eco:b2221', 'eco:bunit', 'eco:b2222', 'eco:bunit', 'eco:beta ', 'eco:b1694', 'eco:b0851', 'eco:b0578', 'eco:b1650', 'eco:b2994', 'eco:bC; h', 'eco:bunit', 'eco:b0973', 'eco:bunit', 'eco:b0972', 'eco:bunit', 'eco:b2997', 'eco:bO; h', 'eco:bunit', 'eco:b0077', 'eco:butan', 'eco:bunit', 'eco:b3671', 'eco:bunit', 'eco:b0078', 'eco:butan', 'eco:bunit', 'eco:b3670', 'eco:bunit', 'eco:b3769', 'eco:bunit', 'eco:b0728', 'eco:bunit', 'eco:beta ', 'eco:b0729', 'eco:bunit', 'eco:b0072', 'eco:bunit', 'eco:b0071', 'eco:bunit', 'eco:b0073', 'eco:b0356', 'eco:b2154', 'eco:b0355', 'eco:b3894', 'eco:bunit', 'eco:b3893', 'eco:bunit', 'eco:beta ', 'eco:b3892', 'eco:bunit', 'eco:b2779', 'eco:b3956', 'eco:boxyl', 'eco:b3236', 'eco:b2097', 'eco:baB; ', 'eco:bisph', 'eco:b2925', 'eco:baA; ', 'eco:bisph', 'eco:b4232', 'eco:bp; f', 'eco:bisph', 'eco:b3925', 'eco:bisph', 'eco:b2930', 'eco:bisph', 'eco:b3916', 'eco:b1723', 'eco:b0997', 'eco:b0996', 'eco:b0998', 'eco:b1873', 'eco:b1872', 'eco:b2296', 'eco:b2297', 'eco:b4069', 'eco:b1702', 'eco:b0755', 'eco:bisph', 'eco:b4395', 'eco:b3612', 'eco:bisph', 'eco:b2913', 'eco:b0907', 'eco:b4388', 'eco:b1393', 'eco:b2265', 'eco:b0593', 'eco:b0595', 'eco:bacti', 'eco:b0596', 'eco:benzo', 'eco:b0583', 'eco:b0594', 'eco:benzo', 'eco:b0586', 'eco:b0597', 'eco:bacti', 'eco:biosy', 'eco:b0400', 'eco:b0399', 'eco:bindi', 'eco:b0383', 'eco:b3728', 'eco:bindi', 'eco:b1129', 'eco:b1130', 'eco:bindi', 'eco:b3404', 'eco:b3405', 'eco:bindi', 'eco:b2215', 'eco:brane', 'eco:b0929', 'eco:brane', 'eco:b1609', 'eco:b1608', 'eco:bindi', 'eco:b3911', 'eco:b3912', 'eco:bindi', 'eco:b0161', 'eco:b4399', 'eco:b4398', 'eco:bindi', 'eco:b2078', 'eco:baeS;', 'eco:b2079', 'eco:baeR;', 'eco:bindi', 'eco:b2074', 'eco:brane', 'eco:b2075', 'eco:bunit', 'eco:b2076', 'eco:bunit', 'eco:b2077', 'eco:b2470', 'eco:b4112', 'eco:basS;', 'eco:b4113', 'eco:basR;', 'eco:bindi', 'eco:b2253', 'eco:binos', 'eco:b0570', 'eco:b0571', 'eco:bindi', 'eco:b0572', 'eco:brane', 'eco:b0573', 'eco:bindi', 'eco:b0574', 'eco:brane', 'eco:b0575', 'eco:b3026', 'eco:b3025', 'eco:bindi', 'eco:b1892', 'eco:bindi', 'eco:b1891', 'eco:bindi', 'eco:b1923', 'eco:b1922', 'eco:b1890', 'eco:b0695', 'eco:b0694', 'eco:bindi', 'eco:b0698', 'eco:bunit', 'eco:b0697', 'eco:bunit', 'eco:b0696', 'eco:bunit', 'eco:b4513', 'eco:bunit', 'eco:b0993', 'eco:b0995', 'eco:bindi', 'eco:b3210', 'eco:b4401', 'eco:bindi', 'eco:b3702', 'eco:b1488', 'eco:b0584', 'eco:bacti', 'eco:brane', 'eco:b0619', 'eco:b0620', 'eco:bindi', 'eco:b0618', 'eco:b0617', 'eco:b0616', 'eco:beta ', 'eco:bunit', 'eco:b0615', 'eco:bunit', 'eco:b0614', 'eco:bosyl', 'eco:b0613', 'eco:bosyl', 'eco:b0612', 'eco:b0564', 'eco:bindi', 'eco:b4125', 'eco:b4124', 'eco:bindi', 'eco:b4123', 'eco:bic C', 'eco:boxyl', 'eco:b1479', 'eco:b1222', 'eco:b1221', 'eco:bindi', 'eco:b2469', 'eco:b2193', 'eco:bindi', 'eco:b1224', 'eco:bunit', 'eco:b1468', 'eco:bunit', 'eco:b1225', 'eco:bunit', 'eco:beta ', 'eco:b1467', 'eco:bunit', 'eco:beta ', 'eco:b1227', 'eco:bunit', 'eco:b1465', 'eco:bunit', 'eco:b1226', 'eco:bdenu', 'eco:bly c', 'eco:b1466', 'eco:bunit', 'eco:b1474', 'eco:bunit', 'eco:b1475', 'eco:bunit', 'eco:beta ', 'eco:b1476', 'eco:bunit', 'eco:b4154', 'eco:bunit', 'eco:b4153', 'eco:b4152', 'eco:brane', 'eco:b4151', 'eco:brane', 'eco:b3667', 'eco:brane', 'eco:b3668', 'eco:b3669', 'eco:bindi', 'eco:b3666', 'eco:b0196', 'eco:brane', 'eco:b2218', 'eco:b2216', 'eco:b1951', 'eco:bindi', 'eco:b2217', 'eco:bindi', 'eco:b2786', 'eco:barA;', 'eco:b1914', 'eco:bindi', 'eco:b1916', 'eco:bindi', 'eco:b2696', 'eco:bon s', 'eco:b2370', 'eco:b2369', 'eco:bindi', 'eco:b2368', 'eco:brane', 'eco:b2367', 'eco:brane', 'eco:bunit', 'eco:b1500', 'eco:b0535', 'eco:b4150', 'eco:beta-', 'eco:b0167', 'eco:b2553', 'eco:b3869', 'eco:b3868', 'eco:bindi', 'eco:b3870', 'eco:b4003', 'eco:b4004', 'eco:bindi', 'eco:b4002', 'eco:b2219', 'eco:b2220', 'eco:bindi', 'eco:boxyl', 'eco:bitor', 'eco:b2223', 'eco:b3528', 'eco:boxyl', 'eco:b3202', 'eco:b2556', 'eco:b2554', 'eco:bindi', 'eco:b4441', 'eco:b0974', 'eco:b sub', 'eco:b1884', 'eco:b4355', 'eco:b1886', 'eco:b1421', 'eco:b1885', 'eco:b3072', 'eco:b1887', 'eco:b1888', 'eco:b1882', 'eco:b1883', 'eco:b0652', 'eco:bindi', 'eco:bunit', 'eco:b0653', 'eco:brane', 'eco:bunit', 'eco:b0654', 'eco:brane', 'eco:bunit', 'eco:b0655', 'eco:bindi', 'eco:b3357', 'eco:bindi', 'eco:b1524', 'eco:b0485', 'eco:b0733', 'eco:bd-I ', 'eco:biqui', 'eco:bunit', 'eco:b0978', 'eco:bd-II', 'eco:biqui', 'eco:bunit', 'eco:b0734', 'eco:bd-I ', 'eco:biqui', 'eco:bunit', 'eco:b0979', 'eco:bd-II', 'eco:biqui', 'eco:bunit', 'eco:b4515', 'eco:bd-I ', 'eco:biqui', 'eco:bunit', 'eco:b4592', 'eco:b3035', 'eco:brane', 'eco:b0983', 'eco:b2062', 'eco:brane', 'eco:b0982', 'eco:b2061', 'eco:b; pr', 'eco:b2060', 'eco:b0981', 'eco:b0772', 'eco:bhC; ', 'eco:brane', 'eco:bC [K', 'eco:b4293', 'eco:b4292', 'eco:b1071', 'eco:b2687', 'eco:bosyl', 'eco:b4172', 'eco:bindi', 'eco:b1264', 'eco:bunit', 'eco:b0754', 'eco:b1704', 'eco:b2601', 'eco:b1493', 'eco:boxyl', 'eco:b3517', 'eco:boxyl', 'eco:b1492', 'eco:butyr', 'eco:b1516', 'eco:bindi', 'eco:b1514', 'eco:brane', 'eco:bunit', 'eco:b1515', 'eco:brane', 'eco:bunit', 'eco:b1513', 'eco:bindi', 'eco:bunit', 'eco:b1511', 'eco:b1512', 'eco:bindi', 'eco:b1517', 'eco:b1518', 'eco:b1440', 'eco:bindi', 'eco:butyr', 'eco:b1443', 'eco:brane', 'eco:bunit', 'eco:b1442', 'eco:brane', 'eco:bunit', 'eco:b1441', 'eco:bindi', 'eco:b3458', 'eco:bindi', 'eco:b3460', 'eco:branc', 'eco:bindi', 'eco:b3457', 'eco:branc', 'eco:brane', 'eco:bunit', 'eco:b3456', 'eco:branc', 'eco:brane', 'eco:bunit', 'eco:b3455', 'eco:branc', 'eco:bindi', 'eco:bunit', 'eco:b3454', 'eco:branc', 'eco:bindi', 'eco:bunit', 'eco:b1285', 'eco:b1805', 'eco:b4046', 'eco:bindi', 'eco:b1277', 'eco:bA; G', 'eco:b0414', 'eco:bD; f', 'eco:bosyl', 'eco:bosyl', 'eco:b1447', 'eco:brane', 'eco:b1329', 'eco:bindi', 'eco:b1243', 'eco:bindi', 'eco:b1244', 'eco:brane', 'eco:bunit', 'eco:b1245', 'eco:brane', 'eco:bunit', 'eco:b1246', 'eco:bindi', 'eco:bunit', 'eco:b1247', 'eco:bindi', 'eco:bunit', 'eco:b3020', 'eco:bindi', 'eco:b1487', 'eco:bindi', 'eco:b1486', 'eco:brane', 'eco:bunit', 'eco:b1485', 'eco:brane', 'eco:bunit', 'eco:b1484', 'eco:bindi', 'eco:bunit', 'eco:b1483', 'eco:bindi', 'eco:bunit', 'eco:b3705', 'eco:brane', 'eco:b3981', 'eco:bunit', 'eco:b3175', 'eco:bunit', 'eco:b3300', 'eco:bunit', 'eco:b0407', 'eco:bunit', 'eco:b0098', 'eco:b3464', 'eco:b3609', 'eco:b2610', 'eco:b2417', 'eco:b3806', 'eco:b1921', 'eco:bindi', 'eco:b0145', 'eco:bindi', 'eco:b2741', 'eco:b2067', 'eco:b1956', 'eco:b3525', 'eco:b1194', 'eco:brake', 'eco:b1341', 'eco:b2127', 'eco:bindi', 'eco:b1040', 'eco:bindi', 'eco:b1041', 'eco:bunit', 'eco:b1042', 'eco:bunit', 'eco:b1043', 'eco:bitor', 'eco:b0385', 'eco:b1815', 'eco:b3533', 'eco:bcsA;', 'eco:bunit', 'eco:b2687', 'eco:bosyl', 'eco:b2000', 'eco:b4408', 'eco:b4457', 'eco:b3430', 'eco:b3429', 'eco:b3417', 'eco:b3428', 'eco:b1024', 'eco:beta-', 'eco:brane', 'eco:b1023', 'eco:beta-', 'eco:beta-', 'eco:b1022', 'eco:bunit', 'eco:b1021', 'eco:bunit', 'eco:b3961', 'eco:bindi', 'eco:b4458', 'eco:b4450', 'eco:b1954', 'eco:b4431', 'eco:b2808', 'eco:bindi', 'eco:b2479', 'eco:b4443', 'eco:b4444', 'eco:b4445', 'eco:b4426', 'eco:b4597', 'eco:b4355', 'eco:b4034', 'eco:bindi', 'eco:b3751', 'eco:bsB; ', 'eco:bose ', 'eco:bindi', 'eco:b2150', 'eco:bindi', 'eco:b3544', 'eco:bindi', 'eco:b1881', 'eco:b1939', 'eco:b1945', 'eco:b1946', 'eco:b1889', 'eco:b1937', 'eco:basal', 'eco:body ', 'eco:b1938', 'eco:basal', 'eco:body ', 'eco:b1940', 'eco:biosy', 'eco:b1941', 'eco:b1942', 'eco:biosy', 'eco:b1943', 'eco:b1944', 'eco:b1947', 'eco:biosy', 'eco:b1948', 'eco:biosy', 'eco:b1949', 'eco:biosy', 'eco:b1950', 'eco:biosy', 'eco:b1878', 'eco:b1879', 'eco:biosy', 'eco:b1880', 'eco:biosy', 'eco:b1072', 'eco:basal', 'eco:body ', 'eco:b1073', 'eco:basal', 'eco:body ', 'eco:b1074', 'eco:basal', 'eco:body ', 'eco:b1075', 'eco:biosy', 'eco:bly [', 'eco:b1076', 'eco:b1077', 'eco:basal', 'eco:body ', 'eco:b1078', 'eco:basal', 'eco:body ', 'eco:b1079', 'eco:b1080', 'eco:b1081', 'eco:b1082', 'eco:b1083', 'eco:b1924', 'eco:b1925', 'eco:biosy', 'eco:b1926', 'eco:biosy', 'eco:b1070', 'eco:biosy', 'eco:b1920', 'eco:bindi', 'eco:b3067', 'eco:b2416', 'eco:b2415', 'eco:b2417', 'eco:b1101', 'eco:b0679', 'eco:b1621', 'eco:b3722', 'eco:bglF;', 'eco:beta-', 'eco:b2715', 'eco:beta-', 'eco:b3682', 'eco:b3683', 'eco:b4240', 'eco:b2429', 'eco:b2934', 'eco:b2933', 'eco:b3599', 'eco:b0731', 'eco:b1736', 'eco:bA; N', 'eco:biose', 'eco:b1738', 'eco:bB; N', 'eco:biose', 'eco:b1737', 'eco:bC; N', 'eco:biose', 'eco:b1817', 'eco:b1818', 'eco:b1819', 'eco:b3133', 'eco:b3138', 'eco:b3139', 'eco:b3140', 'eco:b2704', 'eco:bitol', 'eco:b2703', 'eco:bitol', 'eco:b2702', 'eco:bitol', 'eco:b4302', 'eco:b2094', 'eco:b2093', 'eco:b4565', 'eco:b4304', 'eco:b4195', 'eco:bate ', 'eco:b4194', 'eco:bate ', 'eco:b4193', 'eco:bate ', 'eco:b2169', 'eco:b2167', 'eco:b2168', 'eco:b2829', 'eco:b3206', 'eco:b3204', 'eco:b3035', 'eco:brane', 'eco:b3325', 'eco:b3324', 'eco:b3327', 'eco:b3328', 'eco:b3329', 'eco:b3330', 'eco:b3331', 'eco:b3332', 'eco:b3333', 'eco:b2968', 'eco:b3334', 'eco:b3326', 'eco:b3335', 'eco:b0408', 'eco:bunit', 'eco:b0409', 'eco:bunit', 'eco:b0097', 'eco:b3836', 'eco:b3838', 'eco:b3839', 'eco:b0627']\n"
     ]
    }
   ],
   "source": [
    "with open('u_kegg_eco.txt') as f:     #change here \n",
    "    uniquekeggid = f.read().splitlines()\n",
    "\n",
    "print(type(uniquekeggid))\n",
    "print(uniquekeggid)"
   ]
  },
  {
   "cell_type": "code",
   "execution_count": 4,
   "metadata": {},
   "outputs": [
    {
     "name": "stdout",
     "output_type": "stream",
     "text": [
      "{'eco:b0031': 'up:P04036', 'eco:b0084': 'up:P0AD68', 'eco:b0085': 'up:P22188', 'eco:b0086': 'up:P11880', 'eco:b0087': 'up:P0A6W3', 'eco:b0088': 'up:P14900', 'eco:b0090': 'up:P17443', 'eco:b0091': 'up:P17952', 'eco:b0096': 'up:P0A725', 'eco:b0097': 'up:P62395', 'eco:b0098': 'up:P10408', 'eco:b0166': 'up:P0A9D8', 'eco:b0174': 'up:P60472', 'eco:b0179': 'up:P21645', 'eco:b0181': 'up:P0A722', 'eco:b0182': 'up:P10441', 'eco:b0408': 'up:P0AG90', 'eco:b0409': 'up:P0AG93', 'eco:b0414': 'up:P25539', 'eco:b0524': 'up:P43341', 'eco:b0583': 'up:P19925', 'eco:b0635': 'up:P0AD65', 'eco:b0733': 'up:P0ABJ9', 'eco:b0915': 'up:P27300', 'eco:b0918': 'up:P04951', 'eco:b1215': 'up:P0A715', 'eco:b1277': 'up:P0A7I7', 'eco:b2472': 'up:P0AED7', 'eco:b2478': 'up:P0A6L2', 'eco:b2533': 'up:P0ADG4', 'eco:b2610': 'up:P0AGD7', 'eco:b2696': 'up:P69913', 'eco:b2779': 'up:P0A6P9', 'eco:b2925': 'up:P0AB71', 'eco:b3067': 'up:P00579', 'eco:b3189': 'up:P0A749', 'eco:b3300': 'up:P0AGA2', 'eco:b3433': 'up:P0A9Q9', 'eco:b3464': 'up:P10121', 'eco:b3623': 'up:P27242', 'eco:b3633': 'up:P0AC75', 'eco:b3702': 'up:P03004', 'eco:b3705': 'up:P25714', 'eco:b3730': 'up:P0ACC7', 'eco:b3972': 'up:P08373', 'eco:b3981': 'up:P0AG96'}\n",
      "46\n",
      "['up:P04036', 'up:P0AD68', 'up:P22188', 'up:P11880', 'up:P0A6W3', 'up:P14900', 'up:P17443', 'up:P17952', 'up:P0A725', 'up:P62395', 'up:P10408', 'up:P0A9D8', 'up:P60472', 'up:P21645', 'up:P0A722', 'up:P10441', 'up:P0AG90', 'up:P0AG93', 'up:P25539', 'up:P43341', 'up:P19925', 'up:P0AD65', 'up:P0ABJ9', 'up:P27300', 'up:P04951', 'up:P0A715', 'up:P0A7I7', 'up:P0AED7', 'up:P0A6L2', 'up:P0ADG4', 'up:P0AGD7', 'up:P69913', 'up:P0A6P9', 'up:P0AB71', 'up:P00579', 'up:P0A749', 'up:P0AGA2', 'up:P0A9Q9', 'up:P10121', 'up:P27242', 'up:P0AC75', 'up:P03004', 'up:P25714', 'up:P0ACC7', 'up:P08373', 'up:P0AG96']\n"
     ]
    }
   ],
   "source": [
    "uniquedict={}\n",
    "for key,values in keggiddict.items():\n",
    "    for i in uniquekeggid:\n",
    "        if i == key:\n",
    "            uniquedict[i] = keggiddict[key]\n",
    "print(uniquedict)\n",
    "print(len(uniquedict))\n",
    "\n",
    "#unique_gene = list(uniquedict.keys())\n",
    "unique_up = list(uniquedict.values())\n",
    "print(unique_up)"
   ]
  },
  {
   "cell_type": "code",
   "execution_count": 5,
   "metadata": {},
   "outputs": [
    {
     "name": "stdout",
     "output_type": "stream",
     "text": [
      "['P04036', 'P0AD68', 'P22188', 'P11880', 'P0A6W3', 'P14900', 'P17443', 'P17952', 'P0A725', 'P62395', 'P10408', 'P0A9D8', 'P60472', 'P21645', 'P0A722', 'P10441', 'P0AG90', 'P0AG93', 'P25539', 'P43341', 'P19925', 'P0AD65', 'P0ABJ9', 'P27300', 'P04951', 'P0A715', 'P0A7I7', 'P0AED7', 'P0A6L2', 'P0ADG4', 'P0AGD7', 'P69913', 'P0A6P9', 'P0AB71', 'P00579', 'P0A749', 'P0AGA2', 'P0A9Q9', 'P10121', 'P27242', 'P0AC75', 'P03004', 'P25714', 'P0ACC7', 'P08373', 'P0AG96']\n",
      "46\n"
     ]
    }
   ],
   "source": [
    "unique_essential_up = []\n",
    "for i in unique_up:\n",
    "    j = i.replace('up:','')\n",
    "    unique_essential_up.append(j)\n",
    "print(unique_essential_up)\n",
    "print(len(unique_essential_up))"
   ]
  },
  {
   "cell_type": "code",
   "execution_count": 6,
   "metadata": {},
   "outputs": [
    {
     "name": "stdout",
     "output_type": "stream",
     "text": [
      "P04036\n",
      "P0AD68\n",
      "P22188\n",
      "P11880\n",
      "P0A6W3\n",
      "P14900\n",
      "P17443\n",
      "P17952\n",
      "P0A725\n",
      "P62395\n",
      "P10408\n",
      "P0A9D8\n",
      "P60472\n",
      "P21645\n",
      "P0A722\n",
      "P10441\n",
      "P0AG90\n",
      "P0AG93\n",
      "P25539\n",
      "P43341\n",
      "P19925\n",
      "P0AD65\n",
      "P0ABJ9\n",
      "P27300\n",
      "P04951\n",
      "P0A715\n",
      "P0A7I7\n",
      "P0AED7\n",
      "P0A6L2\n",
      "P0ADG4\n",
      "P0AGD7\n",
      "P69913\n",
      "P0A6P9\n",
      "P0AB71\n",
      "P00579\n",
      "P0A749\n",
      "P0AGA2\n",
      "P0A9Q9\n",
      "P10121\n",
      "P27242\n",
      "P0AC75\n",
      "P03004\n",
      "P25714\n",
      "P0ACC7\n",
      "P08373\n",
      "P0AG96\n"
     ]
    }
   ],
   "source": [
    "for i in unique_essential_up:\n",
    "    print(i)"
   ]
  },
  {
   "cell_type": "code",
   "execution_count": null,
   "metadata": {},
   "outputs": [],
   "source": []
  }
 ],
 "metadata": {
  "kernelspec": {
   "display_name": "Python 3",
   "language": "python",
   "name": "python3"
  },
  "language_info": {
   "codemirror_mode": {
    "name": "ipython",
    "version": 3
   },
   "file_extension": ".py",
   "mimetype": "text/x-python",
   "name": "python",
   "nbconvert_exporter": "python",
   "pygments_lexer": "ipython3",
   "version": "3.8.3"
  }
 },
 "nbformat": 4,
 "nbformat_minor": 4
}
