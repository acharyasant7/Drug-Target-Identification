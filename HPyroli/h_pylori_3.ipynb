{
 "cells": [
  {
   "cell_type": "code",
   "execution_count": 1,
   "metadata": {},
   "outputs": [],
   "source": [
    "import ast"
   ]
  },
  {
   "cell_type": "code",
   "execution_count": 2,
   "metadata": {},
   "outputs": [
    {
     "name": "stdout",
     "output_type": "stream",
     "text": [
      "<class 'dict'>\n",
      "{'hpy:HP0001': 'up:O24853', 'hpy:HP0006': 'up:P56061', 'hpy:HP0010': 'up:P42383', 'hpy:HP0011': 'up:P0A0R3', 'hpy:HP0012': 'up:P56064', 'hpy:HP0024': 'up:O24869', 'hpy:HP0028': 'up:O24871', 'hpy:HP0034': 'up:P56065', 'hpy:HP0035': 'up:O24876', 'hpy:HP0061': 'up:O24901', 'hpy:HP0065': 'up:O24905', 'hpy:HP0074': 'up:P25178', 'hpy:HP0075': 'up:P25177', 'hpy:HP0076': 'up:P56027', 'hpy:HP0077': 'up:P55998', 'hpy:HP0083': 'up:P66637', 'hpy:HP0084': 'up:P56038', 'hpy:HP0088': 'up:P55993', 'hpy:HP0090': 'up:O24916', 'hpy:HP0092': 'up:O24918', 'hpy:HP0095': 'up:O24921', 'hpy:HP0109': 'up:P55994', 'hpy:HP0110': 'up:P55970', 'hpy:HP0116': 'up:P55991', 'hpy:HP0122': 'up:P64653', 'hpy:HP0123': 'up:P56071', 'hpy:HP0124': 'up:P55973', 'hpy:HP0125': 'up:P66269', 'hpy:HP0126': 'up:P56045', 'hpy:HP0146': 'up:O24957', 'hpy:HP0147': 'up:O24958', 'hpy:HP0148': 'up:O24959', 'hpy:HP0153': 'up:P42445', 'hpy:HP0154': 'up:P48285', 'hpy:HP0157': 'up:P56073', 'hpy:HP0171': 'up:P55999', 'hpy:HP0175': 'up:P56112', 'hpy:HP0176': 'up:P56109', 'hpy:HP0177': 'up:P56004', 'hpy:HP0182': 'up:P56126', 'hpy:HP0190': 'up:P56117', 'hpy:HP0194': 'up:P56076', 'hpy:HP0196': 'up:O24991', 'hpy:HP0197': 'up:P56460', 'hpy:HP0200': 'up:P56054', 'hpy:HP0201': 'up:O24993', 'hpy:HP0202': 'up:O24994', 'hpy:HP0212': 'up:O25002', 'hpy:HP0215': 'up:O25004', 'hpy:HP0216': 'up:P56139', 'hpy:HP0218': 'up:O25006', 'hpy:HP0220': 'up:O25008', 'hpy:HP0221': 'up:O25009', 'hpy:HP0222': 'up:O25010', 'hpy:HP0230': 'up:O25016', 'hpy:HP0237': 'up:P56140', 'hpy:HP0238': 'up:P56124', 'hpy:HP0240': 'up:O25023', 'hpy:HP0242': 'up:O25025', 'hpy:HP0265': 'up:O25044', 'hpy:HP0268': 'up:O25047', 'hpy:HP0269': 'up:P56131', 'hpy:HP0272': 'up:O25050', 'hpy:HP0275': 'up:O25052', 'hpy:HP0276': 'up:O25053', 'hpy:HP0277': 'up:O25054', 'hpy:HP0279': 'up:O25056', 'hpy:HP0288': 'up:O25062', 'hpy:HP0289': 'up:O25063', 'hpy:HP0290': 'up:P56129', 'hpy:HP0296': 'up:P56046', 'hpy:HP0297': 'up:P56050', 'hpy:HP0298': 'up:O25069', 'hpy:HP0300': 'up:O25071', 'hpy:HP0301': 'up:O25072', 'hpy:HP0303': 'up:O25074', 'hpy:HP0315': 'up:O05728', 'hpy:HP0319': 'up:P56128', 'hpy:HP0321': 'up:P56103', 'hpy:HP0323': 'up:O25090', 'hpy:HP0328': 'up:O25095', 'hpy:HP0329': 'up:O25096', 'hpy:HP0333': 'up:O25100', 'hpy:HP0349': 'up:O25116', 'hpy:HP0354': 'up:O25121', 'hpy:HP0363': 'up:P56133', 'hpy:HP0364': 'up:P55983', 'hpy:HP0370': 'up:O25134', 'hpy:HP0371': 'up:O25135', 'hpy:HP0376': 'up:P56107', 'hpy:HP0378': 'up:O25141', 'hpy:HP0386': 'up:P64659', 'hpy:HP0388': 'up:O25150', 'hpy:HP0395': 'up:O25156', 'hpy:HP0399': 'up:P56008', 'hpy:HP0400': 'up:P65185', 'hpy:HP0402': 'up:P56145', 'hpy:HP0403': 'up:P56146', 'hpy:HP0405': 'up:O25161', 'hpy:HP0408': 'up:O25164', 'hpy:HP0409': 'up:O25165', 'hpy:HP0417': 'up:P56127', 'hpy:HP0418': 'up:O25172', 'hpy:HP0419': 'up:O25173', 'hpy:HP0439': 'up:O25187', 'hpy:HP0456': 'up:O25203', 'hpy:HP0466': 'up:O25213', 'hpy:HP0469': 'up:O25215', 'hpy:HP0470': 'up:O25216', 'hpy:HP0476': 'up:P96551', 'hpy:HP0489': 'up:O25232', 'hpy:HP0491': 'up:P66142', 'hpy:HP0493': 'up:O25235', 'hpy:HP0494': 'up:O25236', 'hpy:HP0500': 'up:O25242', 'hpy:HP0501': 'up:P55992', 'hpy:HP0507': 'up:O25248', 'hpy:HP0510': 'up:P94844', 'hpy:HP0517': 'up:P56059', 'hpy:HP0549': 'up:P56068', 'hpy:HP0550': 'up:P56466', 'hpy:HP0551': 'up:P66185', 'hpy:HP0554': 'up:O25280', 'hpy:HP0557': 'up:O25283', 'hpy:HP0558': 'up:O25284', 'hpy:HP0559': 'up:P56464', 'hpy:HP0561': 'up:O25286', 'hpy:HP0566': 'up:O25290', 'hpy:HP0572': 'up:O25296', 'hpy:HP0573': 'up:O25297', 'hpy:HP0574': 'up:O25298', 'hpy:HP0576': 'up:O25300', 'hpy:HP0577': 'up:P56467', 'hpy:HP0583': 'up:O25305', 'hpy:HP0586': 'up:O25308', 'hpy:HP0587': 'up:O25309', 'hpy:HP0589': 'up:O25311', 'hpy:HP0590': 'up:O25312', 'hpy:HP0591': 'up:O25313', 'hpy:HP0597': 'up:O25319', 'hpy:HP0598': 'up:O25320', 'hpy:HP0604': 'up:O25325', 'hpy:HP0605': 'up:O25326', 'hpy:HP0614': 'up:O25335', 'hpy:HP0615': 'up:O25336', 'hpy:HP0617': 'up:P56459', 'hpy:HP0618': 'up:P56104', 'hpy:HP0620': 'up:P56153', 'hpy:HP0623': 'up:O25340', 'hpy:HP0625': 'up:O25342', 'hpy:HP0640': 'up:O25357', 'hpy:HP0641': 'up:O25358', 'hpy:HP0644': 'up:O25361', 'hpy:HP0646': 'up:O25363', 'hpy:HP0647': 'up:O25364', 'hpy:HP0648': 'up:P56189', 'hpy:HP0650': 'up:O25365', 'hpy:HP0655': 'up:O25369', 'hpy:HP0656': 'up:O25370', 'hpy:HP0658': 'up:O25372', 'hpy:HP0661': 'up:P56120', 'hpy:HP0662': 'up:P56118', 'hpy:HP0663': 'up:P56122', 'hpy:HP0664': 'up:P64663', 'hpy:HP0680': 'up:P55982', 'hpy:HP0683': 'up:O25393', 'hpy:HP0700': 'up:P56411', 'hpy:HP0701': 'up:P48370', 'hpy:HP0708': 'up:O25412', 'hpy:HP0715': 'up:O25417', 'hpy:HP0716': 'up:O25418', 'hpy:HP0717': 'up:O25419', 'hpy:HP0728': 'up:O25428', 'hpy:HP0729': 'up:O25429', 'hpy:HP0736': 'up:O25436', 'hpy:HP0737': 'up:O25437', 'hpy:HP0738': 'up:P56191', 'hpy:HP0740': 'up:O25439', 'hpy:HP0742': 'up:P56184', 'hpy:HP0743': 'up:P56098', 'hpy:HP0745': 'up:O25441', 'hpy:HP0746': 'up:O25442', 'hpy:HP0748': 'up:O25444', 'hpy:HP0749': 'up:O25445', 'hpy:HP0750': 'up:O25446', 'hpy:HP0761': 'up:O25456', 'hpy:HP0763': 'up:O25458', 'hpy:HP0773': 'up:O25465', 'hpy:HP0774': 'up:P56417', 'hpy:HP0775': 'up:O25466', 'hpy:HP0776': 'up:P60325', 'hpy:HP0777': 'up:P56106', 'hpy:HP0785': 'up:O25474', 'hpy:HP0786': 'up:O25475', 'hpy:HP0787': 'up:O25476', 'hpy:HP0791': 'up:Q59465', 'hpy:HP0793': 'up:P56419', 'hpy:HP0798': 'up:Q48260', 'hpy:HP0799': 'up:P56421', 'hpy:HP0807': 'up:O25487', 'hpy:HP0811': 'up:O25491', 'hpy:HP0820': 'up:O25498', 'hpy:HP0828': 'up:P56085', 'hpy:HP0829': 'up:P56088', 'hpy:HP0830': 'up:P56114', 'hpy:HP0831': 'up:O25502', 'hpy:HP0834': 'up:O25505', 'hpy:HP0835': 'up:O25506', 'hpy:HP0841': 'up:O25512', 'hpy:HP0849': 'up:O25520', 'hpy:HP0851': 'up:O25522', 'hpy:HP0852': 'up:O25523', 'hpy:HP0854': 'up:O25525', 'hpy:HP0858': 'up:O25529', 'hpy:HP0860': 'up:O25531', 'hpy:HP0866': 'up:P64275', 'hpy:HP0867': 'up:O25537', 'hpy:HP0868': 'up:O25538', 'hpy:HP0880': 'up:O25547', 'hpy:HP0885': 'up:O25551', 'hpy:HP0886': 'up:P41259', 'hpy:HP0920': 'up:O25578', 'hpy:HP0927': 'up:O25582', 'hpy:HP0928': 'up:P56462', 'hpy:HP0929': 'up:O25583', 'hpy:HP0935': 'up:O25589', 'hpy:HP0941': 'up:O25595', 'hpy:HP0950': 'up:O25604', 'hpy:HP0955': 'up:O25609', 'hpy:HP0956': 'up:O25610', 'hpy:HP0957': 'up:O25611', 'hpy:HP0959': 'up:O25613', 'hpy:HP0960': 'up:P56453', 'hpy:HP0961': 'up:O25614', 'hpy:HP0963': 'up:O25616', 'hpy:HP0972': 'up:P56454', 'hpy:HP0973': 'up:O25625', 'hpy:HP0978': 'up:O25629', 'hpy:HP0979': 'up:P56097', 'hpy:HP0993': 'up:O25641', 'hpy:HP1012': 'up:O25656', 'hpy:HP1013': 'up:O25657', 'hpy:HP1016': 'up:O25660', 'hpy:HP1017': 'up:O25661', 'hpy:HP1020': 'up:O25664', 'hpy:HP1034': 'up:O25678', 'hpy:HP1036': 'up:O25680', 'hpy:HP1038': 'up:Q48255', 'hpy:HP1040': 'up:P56022', 'hpy:HP1047': 'up:O25688', 'hpy:HP1048': 'up:P55972', 'hpy:HP1052': 'up:O25692', 'hpy:HP1053': 'up:O25693', 'hpy:HP1054': 'up:O25694', 'hpy:HP1055': 'up:O25695', 'hpy:HP1056': 'up:O25696', 'hpy:HP1057': 'up:O25697', 'hpy:HP1058': 'up:O25698', 'hpy:HP1059': 'up:O25699', 'hpy:HP1060': 'up:O25700', 'hpy:HP1061': 'up:O25701', 'hpy:HP1064': 'up:O25704', 'hpy:HP1065': 'up:O25705', 'hpy:HP1067': 'up:P71403', 'hpy:HP1069': 'up:P71408', 'hpy:HP1070': 'up:O07680', 'hpy:HP1076': 'up:O25709', 'hpy:HP1082': 'up:O25714', 'hpy:HP1085': 'up:O25717', 'hpy:HP1086': 'up:O25718', 'hpy:HP1087': 'up:O25719', 'hpy:HP1089': 'up:O25721', 'hpy:HP1090': 'up:O25722', 'hpy:HP1102': 'up:O25730', 'hpy:HP1108': 'up:O25736', 'hpy:HP1129': 'up:O25754', 'hpy:HP1130': 'up:O25755', 'hpy:HP1131': 'up:P56084', 'hpy:HP1132': 'up:P55988', 'hpy:HP1133': 'up:P56082', 'hpy:HP1134': 'up:P55987', 'hpy:HP1135': 'up:O25756', 'hpy:HP1136': 'up:P56086', 'hpy:HP1137': 'up:O25757', 'hpy:HP1139': 'up:O25759', 'hpy:HP1140': 'up:O25760', 'hpy:HP1141': 'up:P56461', 'hpy:HP1147': 'up:P56044', 'hpy:HP1148': 'up:O25766', 'hpy:HP1149': 'up:O25767', 'hpy:HP1150': 'up:O25768', 'hpy:HP1151': 'up:P56023', 'hpy:HP1152': 'up:P56005', 'hpy:HP1153': 'up:P56000', 'hpy:HP1155': 'up:O25770', 'hpy:HP1160': 'up:O25775', 'hpy:HP1161': 'up:O25776', 'hpy:HP1163': 'up:O25778', 'hpy:HP1166': 'up:O25781', 'hpy:HP1170': 'up:O25784', 'hpy:HP1190': 'up:P56455', 'hpy:HP1195': 'up:P56002', 'hpy:HP1196': 'up:P66609', 'hpy:HP1197': 'up:P0A0X4', 'hpy:HP1198': 'up:O25806', 'hpy:HP1199': 'up:P55834', 'hpy:HP1200': 'up:P56036', 'hpy:HP1201': 'up:P56029', 'hpy:HP1202': 'up:P66052', 'hpy:HP1203': 'up:P55976', 'hpy:HP1205': 'up:P56003', 'hpy:HP1206': 'up:O25807', 'hpy:HP1217': 'up:O25816', 'hpy:HP1218a': 'up:O25818', 'hpy:HP1221': 'up:P55984', 'hpy:HP1229': 'up:O25827', 'hpy:HP1230': 'up:O25828', 'hpy:HP1231': 'up:O25829', 'hpy:HP1232': 'up:O25830', 'hpy:HP1234': 'up:O25832', 'hpy:HP1236': 'up:O25834', 'hpy:HP1240': 'up:O25838', 'hpy:HP1241': 'up:P56452', 'hpy:HP1244': 'up:P66459', 'hpy:HP1245': 'up:O25841', 'hpy:HP1246': 'up:P56013', 'hpy:HP1247': 'up:O25842', 'hpy:HP1249': 'up:P56119', 'hpy:HP1253': 'up:P56396', 'hpy:HP1254': 'up:O25846', 'hpy:HP1256': 'up:P56398', 'hpy:HP1261': 'up:O25851', 'hpy:HP1264': 'up:O25854', 'hpy:HP1265': 'up:O25855', 'hpy:HP1266': 'up:O25856', 'hpy:HP1268': 'up:O25858', 'hpy:HP1270': 'up:O25860', 'hpy:HP1289': 'up:O25876', 'hpy:HP1292': 'up:P56042', 'hpy:HP1293': 'up:P56001', 'hpy:HP1294': 'up:P56011', 'hpy:HP1295': 'up:P56018', 'hpy:HP1296': 'up:P56020', 'hpy:HP1297': 'up:P56058', 'hpy:HP1298': 'up:P65108', 'hpy:HP1299': 'up:P56102', 'hpy:HP1300': 'up:O25879', 'hpy:HP1301': 'up:P56040', 'hpy:HP1302': 'up:P66572', 'hpy:HP1304': 'up:P56034', 'hpy:HP1305': 'up:P66621', 'hpy:HP1306': 'up:P56021', 'hpy:HP1307': 'up:P56033', 'hpy:HP1308': 'up:P56049', 'hpy:HP1309': 'up:P56039', 'hpy:HP1310': 'up:P66449', 'hpy:HP1311': 'up:P56052', 'hpy:HP1312': 'up:P56041', 'hpy:HP1313': 'up:P56010', 'hpy:HP1314': 'up:P56047', 'hpy:HP1315': 'up:P56026', 'hpy:HP1316': 'up:P56030', 'hpy:HP1317': 'up:P66119', 'hpy:HP1318': 'up:P56032', 'hpy:HP1319': 'up:P56031', 'hpy:HP1320': 'up:P66328', 'hpy:HP1321': 'up:O25880', 'hpy:HP1335': 'up:O25893', 'hpy:HP1337': 'up:O25895', 'hpy:HP1338': 'up:O25896', 'hpy:HP1339': 'up:O25897', 'hpy:HP1340': 'up:O25898', 'hpy:HP1345': 'up:P56154', 'hpy:HP1346': 'up:O25902', 'hpy:HP1348': 'up:O25903', 'hpy:HP1349': 'up:O25904', 'hpy:HP1357': 'up:O25911', 'hpy:HP1359': 'up:O25913', 'hpy:HP1360': 'up:O25914', 'hpy:HP1362': 'up:O25916', 'hpy:HP1373': 'up:O25925', 'hpy:HP1375': 'up:O25927', 'hpy:HP1376': 'up:O25928', 'hpy:HP1384': 'up:O25935', 'hpy:HP1385': 'up:O25936', 'hpy:HP1386': 'up:P56188', 'hpy:HP1388': 'up:O25938', 'hpy:HP1394': 'up:O25944', 'hpy:HP1413': 'up:O25959', 'hpy:HP1414': 'up:O25960', 'hpy:HP1418': 'up:O25963', 'hpy:HP1421': 'up:O25965', 'hpy:HP1422': 'up:P56456', 'hpy:HP1436': 'up:O25977', 'hpy:HP1442': 'up:O25983', 'hpy:HP1443': 'up:O25984', 'hpy:HP1445': 'up:O25986', 'hpy:HP1446': 'up:P64101', 'hpy:HP1447': 'up:P66246', 'hpy:HP1448': 'up:P55997', 'hpy:HP1449': 'up:O25988', 'hpy:HP1450': 'up:O25989', 'hpy:HP1451': 'up:O25990', 'hpy:HP1456': 'up:P0A0V0', 'hpy:HP1460': 'up:P56157', 'hpy:HP1473': 'up:O26008', 'hpy:HP1474': 'up:O26009', 'hpy:HP1475': 'up:O26010', 'hpy:HP1478': 'up:O26013', 'hpy:HP1480': 'up:P56458', 'hpy:HP1481': 'up:O26015', 'hpy:HP1482': 'up:O26016', 'hpy:HP1483': 'up:O26017', 'hpy:HP1484': 'up:O26018', 'hpy:HP1493': 'up:O26026', 'hpy:HP1494': 'up:O26027', 'hpy:HP1497': 'up:P56077', 'hpy:HP1504': 'up:O26034', 'hpy:HP1505': 'up:O26035', 'hpy:HP1509': 'up:O26039', 'hpy:HP1510': 'up:O26040', 'hpy:HP1514': 'up:P55977', 'hpy:HP1518': 'up:O26047', 'hpy:HP1523': 'up:O26051', 'hpy:HP1524': 'up:O26052', 'hpy:HP1529': 'up:O26057', 'hpy:HP1531': 'up:P64665', 'hpy:HP1532': 'up:O26060', 'hpy:HP1539': 'up:O26064', 'hpy:HP1545': 'up:O26070', 'hpy:HP1546': 'up:O26071', 'hpy:HP1547': 'up:P56457', 'hpy:HP1548': 'up:O26072', 'hpy:HP1549': 'up:O26073', 'hpy:HP1550': 'up:O26074', 'hpy:HP1551': 'up:O26075', 'hpy:HP1552': 'up:O26076', 'hpy:HP1553': 'up:O26077', 'hpy:HP1554': 'up:P56009', 'hpy:HP1555': 'up:P55975', 'hpy:HP1556': 'up:O26078', 'hpy:HP1566': 'up:O26086', 'hpy:HP1567': 'up:O26087', 'hpy:HP1569': 'up:O26089', 'hpy:HP1570': 'up:O26090', 'hpy:HP1571': 'up:O26091', 'hpy:HP1580': 'up:O26100', 'hpy:HP1584': 'up:P55996'}\n"
     ]
    }
   ],
   "source": [
    "file = open('keggiddict_hpy.txt','r')   #change here\n",
    "contents = file.read()\n",
    "keggiddict = ast.literal_eval(contents)\n",
    "file.close()\n",
    "print(type(keggiddict))\n",
    "print(keggiddict)"
   ]
  },
  {
   "cell_type": "code",
   "execution_count": 3,
   "metadata": {},
   "outputs": [
    {
     "name": "stdout",
     "output_type": "stream",
     "text": [
      "<class 'list'>\n",
      "['hpy:HP1014', 'hpy:HP1229', 'hpy:HP1189', 'hpy:HP1013', 'hpy:HP0510', 'hpy:HP0822', 'hpy:HP1229', 'hpy:HP0626', 'hpy:HP0212', 'hpy:HP0566', 'hpy:HP0290', 'hpy:HP1507', 'hpy:HP1494', 'hpy:HP0740', 'hpy:HP0924', 'hpy:HP0690', 'hpy:HP1380', 'hpy:HP0672', 'hpy:HP1118', 'hpy:HP0723', 'hpy:HP0183', 'hpy:HP1238', 'hpy:HP0941', 'hpy:HP0738', 'hpy:HP1103', 'hpy:HP1275', 'hpy:HP1375', 'hpy:HP1052', 'hpy:HP0196', 'hpy:HP0394', 'hpy:HP0867', 'hpy:HP0328', 'hpy:HP1429', 'hpy:HP0003', 'hpy:HP1570', 'hpy:HP0230', 'hpy:HP0957', 'hpy:HP0280', 'hpy:HP0022', 'hpy:HP0270', 'hpy:HP0021', 'hpy:HP0579', 'hpy:HP0580', 'hpy:HP1580', 'hpy:HP0857', 'hpy:HP0858', 'hpy:HP0860', 'hpy:HP0859', 'hpy:HP0279', 'hpy:HP1191', 'hpy:HP1417', 'hpy:HP1416', 'hpy:HP0159', 'hpy:HP1039', 'hpy:HP0646', 'hpy:HP0360', 'hpy:HP0043', 'hpy:HP0044', 'hpy:HP0045', 'hpy:HP0683', 'hpy:HP0840', 'hpy:HP0366', 'hpy:HP0327', 'hpy:HP0326', 'hpy:HP0178', 'hpy:HP0648', 'hpy:HP1418', 'hpy:HP0623', 'hpy:HP0494', 'hpy:HP1221', 'hpy:HP0851', 'hpy:HP0493', 'hpy:HP1155', 'hpy:HP0597', 'hpy:HP1565', 'hpy:HP1556', 'hpy:HP0294', 'hpy:HP1476', 'hpy:HP0183', 'hpy:HP0154', 'hpy:HP0176', 'hpy:HP1385', 'hpy:HP0407', 'hpy:HP0903', 'hpy:HP1045', 'hpy:HP1110', 'hpy:HP1111', 'hpy:HP1108', 'hpy:HP1109', 'hpy:HP0121', 'hpy:HP0974', 'hpy:HP0397', 'hpy:HP0652', 'hpy:HP1329', 'hpy:HP0115', 'hpy:HP0601', 'hpy:HP1032', 'hpy:HP0815', 'hpy:HP1529', 'hpy:HP0192', 'hpy:HP0191', 'hpy:HP0193', 'hpy:HP1442', 'hpy:HP0512', 'hpy:HP0244', 'hpy:HP0693', 'hpy:HP0714', 'hpy:HP0633', 'hpy:HP0082', 'hpy:HP0099', 'hpy:HP0103', 'hpy:HP0391', 'hpy:HP0392', 'hpy:HP1067', 'hpy:HP0019', 'hpy:HP0393', 'hpy:HP0616', 'hpy:HP1540', 'hpy:HP1539', 'hpy:HP1538', 'hpy:HP0144', 'hpy:HP0145', 'hpy:HP0146', 'hpy:HP0147', 'hpy:HP0105', 'hpy:HP1282', 'hpy:HP1281', 'hpy:HP0134', 'hpy:HP0802', 'hpy:HP1505', 'hpy:HP1450', 'hpy:HP1203', 'hpy:HP1255', 'hpy:HP1300', 'hpy:HP1551', 'hpy:HP0786', 'hpy:HP0763', 'hpy:HP1152', 'hpy:HP0082', 'hpy:HP0298', 'hpy:HP0352', 'hpy:HP1031', 'hpy:HP1030', 'hpy:HP0584', 'hpy:HP0816', 'hpy:HP1557', 'hpy:HP0351', 'hpy:HP0353', 'hpy:HP1420', 'hpy:HP0906', 'hpy:HP0809', 'hpy:HP1419', 'hpy:HP0173', 'hpy:HP1041', 'hpy:HP0770', 'hpy:HP1477', 'hpy:HP1559', 'hpy:HP1558', 'hpy:HP0907', 'hpy:HP0870', 'hpy:HP0908', 'hpy:HP1092', 'hpy:HP1585', 'hpy:HP0325', 'hpy:HP0246', 'hpy:HP0245', 'hpy:HP1119', 'hpy:HP0295', 'hpy:HP0752', 'hpy:HP0753', 'hpy:HP0940', 'hpy:HP0088', 'hpy:HP1550', 'hpy:HP1549', 'hpy:HP0320', 'hpy:HP1060', 'hpy:HP1061', 'hpy:HP0887', 'hpy:HP0439', 'hpy:HP0441', 'hpy:HP1421', 'hpy:HP0525', 'hpy:HP1006']\n"
     ]
    }
   ],
   "source": [
    "with open('u_kegg_hpy.txt') as f:     #change here \n",
    "    uniquekeggid = f.read().splitlines()\n",
    "\n",
    "print(type(uniquekeggid))\n",
    "print(uniquekeggid)"
   ]
  },
  {
   "cell_type": "code",
   "execution_count": 4,
   "metadata": {},
   "outputs": [
    {
     "name": "stdout",
     "output_type": "stream",
     "text": [
      "{'hpy:HP0088': 'up:P55993', 'hpy:HP0146': 'up:O24957', 'hpy:HP0147': 'up:O24958', 'hpy:HP0154': 'up:P48285', 'hpy:HP0176': 'up:P56109', 'hpy:HP0196': 'up:O24991', 'hpy:HP0212': 'up:O25002', 'hpy:HP0230': 'up:O25016', 'hpy:HP0279': 'up:O25056', 'hpy:HP0290': 'up:P56129', 'hpy:HP0298': 'up:O25069', 'hpy:HP0328': 'up:O25095', 'hpy:HP0439': 'up:O25187', 'hpy:HP0493': 'up:O25235', 'hpy:HP0494': 'up:O25236', 'hpy:HP0510': 'up:P94844', 'hpy:HP0566': 'up:O25290', 'hpy:HP0597': 'up:O25319', 'hpy:HP0623': 'up:O25340', 'hpy:HP0646': 'up:O25363', 'hpy:HP0648': 'up:P56189', 'hpy:HP0683': 'up:O25393', 'hpy:HP0738': 'up:P56191', 'hpy:HP0740': 'up:O25439', 'hpy:HP0763': 'up:O25458', 'hpy:HP0786': 'up:O25475', 'hpy:HP0851': 'up:O25522', 'hpy:HP0858': 'up:O25529', 'hpy:HP0860': 'up:O25531', 'hpy:HP0867': 'up:O25537', 'hpy:HP0941': 'up:O25595', 'hpy:HP0957': 'up:O25611', 'hpy:HP1013': 'up:O25657', 'hpy:HP1052': 'up:O25692', 'hpy:HP1060': 'up:O25700', 'hpy:HP1061': 'up:O25701', 'hpy:HP1067': 'up:P71403', 'hpy:HP1108': 'up:O25736', 'hpy:HP1152': 'up:P56005', 'hpy:HP1155': 'up:O25770', 'hpy:HP1203': 'up:P55976', 'hpy:HP1221': 'up:P55984', 'hpy:HP1229': 'up:O25827', 'hpy:HP1300': 'up:O25879', 'hpy:HP1375': 'up:O25927', 'hpy:HP1385': 'up:O25936', 'hpy:HP1418': 'up:O25963', 'hpy:HP1421': 'up:O25965', 'hpy:HP1442': 'up:O25983', 'hpy:HP1450': 'up:O25989', 'hpy:HP1494': 'up:O26027', 'hpy:HP1505': 'up:O26035', 'hpy:HP1529': 'up:O26057', 'hpy:HP1539': 'up:O26064', 'hpy:HP1549': 'up:O26073', 'hpy:HP1550': 'up:O26074', 'hpy:HP1551': 'up:O26075', 'hpy:HP1556': 'up:O26078', 'hpy:HP1570': 'up:O26090', 'hpy:HP1580': 'up:O26100'}\n",
      "60\n",
      "['up:P55993', 'up:O24957', 'up:O24958', 'up:P48285', 'up:P56109', 'up:O24991', 'up:O25002', 'up:O25016', 'up:O25056', 'up:P56129', 'up:O25069', 'up:O25095', 'up:O25187', 'up:O25235', 'up:O25236', 'up:P94844', 'up:O25290', 'up:O25319', 'up:O25340', 'up:O25363', 'up:P56189', 'up:O25393', 'up:P56191', 'up:O25439', 'up:O25458', 'up:O25475', 'up:O25522', 'up:O25529', 'up:O25531', 'up:O25537', 'up:O25595', 'up:O25611', 'up:O25657', 'up:O25692', 'up:O25700', 'up:O25701', 'up:P71403', 'up:O25736', 'up:P56005', 'up:O25770', 'up:P55976', 'up:P55984', 'up:O25827', 'up:O25879', 'up:O25927', 'up:O25936', 'up:O25963', 'up:O25965', 'up:O25983', 'up:O25989', 'up:O26027', 'up:O26035', 'up:O26057', 'up:O26064', 'up:O26073', 'up:O26074', 'up:O26075', 'up:O26078', 'up:O26090', 'up:O26100']\n"
     ]
    }
   ],
   "source": [
    "uniquedict={}\n",
    "for key,values in keggiddict.items():\n",
    "    for i in uniquekeggid:\n",
    "        if i == key:\n",
    "            uniquedict[i] = keggiddict[key]\n",
    "print(uniquedict)\n",
    "print(len(uniquedict))\n",
    "\n",
    "#unique_gene = list(uniquedict.keys())\n",
    "unique_up = list(uniquedict.values())\n",
    "print(unique_up)"
   ]
  },
  {
   "cell_type": "code",
   "execution_count": 5,
   "metadata": {},
   "outputs": [
    {
     "name": "stdout",
     "output_type": "stream",
     "text": [
      "['P55993', 'O24957', 'O24958', 'P48285', 'P56109', 'O24991', 'O25002', 'O25016', 'O25056', 'P56129', 'O25069', 'O25095', 'O25187', 'O25235', 'O25236', 'P94844', 'O25290', 'O25319', 'O25340', 'O25363', 'P56189', 'O25393', 'P56191', 'O25439', 'O25458', 'O25475', 'O25522', 'O25529', 'O25531', 'O25537', 'O25595', 'O25611', 'O25657', 'O25692', 'O25700', 'O25701', 'P71403', 'O25736', 'P56005', 'O25770', 'P55976', 'P55984', 'O25827', 'O25879', 'O25927', 'O25936', 'O25963', 'O25965', 'O25983', 'O25989', 'O26027', 'O26035', 'O26057', 'O26064', 'O26073', 'O26074', 'O26075', 'O26078', 'O26090', 'O26100']\n",
      "60\n"
     ]
    }
   ],
   "source": [
    "unique_essential_up = []\n",
    "for i in unique_up:\n",
    "    j = i.replace('up:','')\n",
    "    unique_essential_up.append(j)\n",
    "print(unique_essential_up)\n",
    "print(len(unique_essential_up))"
   ]
  },
  {
   "cell_type": "code",
   "execution_count": 6,
   "metadata": {},
   "outputs": [
    {
     "name": "stdout",
     "output_type": "stream",
     "text": [
      "P55993\n",
      "O24957\n",
      "O24958\n",
      "P48285\n",
      "P56109\n",
      "O24991\n",
      "O25002\n",
      "O25016\n",
      "O25056\n",
      "P56129\n",
      "O25069\n",
      "O25095\n",
      "O25187\n",
      "O25235\n",
      "O25236\n",
      "P94844\n",
      "O25290\n",
      "O25319\n",
      "O25340\n",
      "O25363\n",
      "P56189\n",
      "O25393\n",
      "P56191\n",
      "O25439\n",
      "O25458\n",
      "O25475\n",
      "O25522\n",
      "O25529\n",
      "O25531\n",
      "O25537\n",
      "O25595\n",
      "O25611\n",
      "O25657\n",
      "O25692\n",
      "O25700\n",
      "O25701\n",
      "P71403\n",
      "O25736\n",
      "P56005\n",
      "O25770\n",
      "P55976\n",
      "P55984\n",
      "O25827\n",
      "O25879\n",
      "O25927\n",
      "O25936\n",
      "O25963\n",
      "O25965\n",
      "O25983\n",
      "O25989\n",
      "O26027\n",
      "O26035\n",
      "O26057\n",
      "O26064\n",
      "O26073\n",
      "O26074\n",
      "O26075\n",
      "O26078\n",
      "O26090\n",
      "O26100\n"
     ]
    }
   ],
   "source": [
    "for i in unique_essential_up:\n",
    "    print(i)"
   ]
  },
  {
   "cell_type": "code",
   "execution_count": null,
   "metadata": {},
   "outputs": [],
   "source": []
  }
 ],
 "metadata": {
  "kernelspec": {
   "display_name": "Python 3",
   "language": "python",
   "name": "python3"
  },
  "language_info": {
   "codemirror_mode": {
    "name": "ipython",
    "version": 3
   },
   "file_extension": ".py",
   "mimetype": "text/x-python",
   "name": "python",
   "nbconvert_exporter": "python",
   "pygments_lexer": "ipython3",
   "version": "3.8.5"
  }
 },
 "nbformat": 4,
 "nbformat_minor": 4
}
