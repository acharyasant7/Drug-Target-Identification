{
 "cells": [
  {
   "cell_type": "code",
   "execution_count": 1,
   "metadata": {},
   "outputs": [],
   "source": [
    "from bioservices import KEGG\n",
    "s = KEGG()"
   ]
  },
  {
   "cell_type": "code",
   "execution_count": 2,
   "metadata": {},
   "outputs": [],
   "source": [
    "import io\n",
    "import os\n",
    "\n",
    "import pandas as pd\n",
    "def to_df(result):\n",
    "    return pd.read_table(io.StringIO(result), header=None)"
   ]
  },
  {
   "cell_type": "code",
   "execution_count": 3,
   "metadata": {},
   "outputs": [
    {
     "name": "stdout",
     "output_type": "stream",
     "text": [
      "['Secondary bile acid biosynthesis', 'Monobactam biosynthesis', 'Lysine biosynthesis', 'Benzoate degradation', 'Novobiocin biosynthesis', 'Cyanoamino acid metabolism', 'D-Alanine metabolism', 'Streptomycin biosynthesis', 'Lipopolysaccharide biosynthesis', 'O-Antigen nucleotide sugar biosynthesis', 'Peptidoglycan biosynthesis', 'Aminobenzoate degradation', 'Styrene degradation', 'Methane metabolism', 'Biosynthesis of secondary metabolites', 'Microbial metabolism in diverse environments', 'Degradation of aromatic compounds', 'beta-Lactam resistance', 'Vancomycin resistance', 'Cationic antimicrobial peptide (CAMP) resistance', 'Two-component system', 'Quorum sensing', 'Bacterial chemotaxis', 'Flagellar assembly', 'Bacterial secretion system']\n",
      "\n",
      "['hpy00121', 'hpy00261', 'hpy00300', 'hpy00362', 'hpy00401', 'hpy00460', 'hpy00473', 'hpy00521', 'hpy00540', 'hpy00541', 'hpy00550', 'hpy00627', 'hpy00643', 'hpy00680', 'hpy01110', 'hpy01120', 'hpy01220', 'hpy01501', 'hpy01502', 'hpy01503', 'hpy02020', 'hpy02024', 'hpy02030', 'hpy02040', 'hpy03070']\n",
      "25\n"
     ]
    }
   ],
   "source": [
    "result_org = s.list(\"pathway\", organism=\"hpy\")    #change here\n",
    "pathway_org = to_df(result_org)\n",
    "\n",
    "result_human = s.list(\"pathway\",organism=\"hsa\")\n",
    "pathway_hsa = to_df(result_human)\n",
    "for i in range(0, len(pathway_hsa)):\n",
    "    pathway_hsa[1][i] = pathway_hsa[1][i].replace(' - Homo sapiens (human)', \"\")\n",
    "\n",
    "\n",
    "for i in range(0, len(pathway_org)):\n",
    "    pathway_org[1][i] = pathway_org[1][i].replace(' - Helicobacter pylori 26695', \"\")   #change here \n",
    "\n",
    "pathway_humans = list(pathway_hsa[1])\n",
    "pathway_bacteria= list(pathway_org[1])\n",
    "\n",
    "lst=[]\n",
    "for i in pathway_bacteria:\n",
    "    if i not in pathway_humans:\n",
    "        lst.append(i)\n",
    "\n",
    "path = []\n",
    "for i in lst:\n",
    "    for j in range(0, len(pathway_org)):\n",
    "        if i == pathway_org[1][j]:\n",
    "            path.append(pathway_org[0][j])\n",
    "\n",
    "for i in range(len(path)): \n",
    "    path[i] = path[i].replace('path:', \"\")\n",
    "\n",
    "print(lst)\n",
    "print()\n",
    "print(path)\n",
    "print(len(path))"
   ]
  },
  {
   "cell_type": "code",
   "execution_count": 4,
   "metadata": {},
   "outputs": [
    {
     "name": "stdout",
     "output_type": "stream",
     "text": [
      "There are 25 unique pathways and 183 unique genes. The genes are:\n"
     ]
    },
    {
     "data": {
      "text/plain": [
       "['GENE        HP1014  7-alpha-hydroxysteroid dehydrogenase [KO:K00076] [EC:1.1.1.159]',\n",
       " 'GENE        HP1229  aspartokinase [KO:K00928] [EC:2.7.2.4]',\n",
       " '            HP1189  aspartate-semialdehyde dehydrogenase [KO:K00133] [EC:1.2.1.11]',\n",
       " '            HP1013  dapA; 4-hydroxy-tetrahydrodipicolinate synthase [KO:K01714] [EC:4.3.3.7]',\n",
       " '            HP0510  4-hydroxy-tetrahydrodipicolinate reductase [KO:K00215] [EC:1.17.1.8]',\n",
       " 'GENE        HP0822  homoserine dehydrogenase [KO:K00003] [EC:1.1.1.3]',\n",
       " '            HP1229  aspartokinase [KO:K00928] [EC:2.7.2.4]',\n",
       " '            HP0626  2,3,4,5-tetrahydropyridine-2,6-dicarboxylate N-succinyltransferase [KO:K00674] [EC:2.3.1.117]',\n",
       " '            HP0212  succinyl-diaminopimelate desuccinylase [KO:K01439] [EC:3.5.1.18]',\n",
       " '            HP0566  dapF; diaminopimelate epimerase [KO:K01778] [EC:5.1.1.7]',\n",
       " '            HP0290  diaminopimelate decarboxylase [KO:K01586] [EC:4.1.1.20]',\n",
       " '            HP1507  saccharopine dehydrogenase [KO:K00290] [EC:1.5.1.7]',\n",
       " '            HP1494  murE; UDP-N-acetylmuramoylalanyl-D-glutamate--2,6-diaminopimelate ligase [KO:K01928] [EC:6.3.2.13]',\n",
       " '            HP0740  UDP-N-acetylmuramoyl-tripeptide--D-alanyl-D-alanine ligase [KO:K01929] [EC:6.3.2.10]',\n",
       " 'GENE        HP0924  4-oxalocrotonate tautomerase [KO:K01821] [EC:5.3.2.6]',\n",
       " '            HP0690  acetyl CoA acetyltransferase [KO:K00626] [EC:2.3.1.9]',\n",
       " 'GENE        HP1380  prephenate dehydrogenase [KO:K04517] [EC:1.3.1.12]',\n",
       " '            HP0672  aspartate aminotransferase [KO:K00812] [EC:2.6.1.1]',\n",
       " 'GENE        HP1118  gamma-glutamyltranspeptidase [KO:K00681] [EC:2.3.2.2 3.4.19.13]',\n",
       " '            HP0723  L-asparaginase II [KO:K01424] [EC:3.5.1.1]',\n",
       " '            HP0183  glyA; serine hydroxymethyltransferase [KO:K00600] [EC:2.1.2.1]',\n",
       " '            HP1238  amiF; formamidase [KO:K01455] [EC:3.5.1.49]',\n",
       " 'GENE        HP0941  alanine racemase [KO:K01775] [EC:5.1.1.1]',\n",
       " '            HP0738  ddl; D-alanine--D-alanine ligase [KO:K01921] [EC:6.3.2.4]',\n",
       " 'GENE        HP1103  glk; glucokinase [KO:K00845] [EC:2.7.1.2]',\n",
       " '            HP1275  algC; phosphomannomutase [KO:K15778] [EC:5.4.2.8 5.4.2.2]',\n",
       " 'GENE        HP1375  acyl-[acyl-carrier-protein]--UDP-N-acetylglucosamine O-acyltransferase [KO:K00677] [EC:2.3.1.129]',\n",
       " '            HP1052  lpxC; UDP-3-O-[3-hydroxymyristoyl] N-acetylglucosamine deacetylase [KO:K02535] [EC:3.5.1.108]',\n",
       " '            HP0196  lpxD; UDP-3-O-[3-hydroxymyristoyl] glucosamine N-acyltransferase [KO:K02536] [EC:2.3.1.191]',\n",
       " '            HP0394  hypothetical protein [KO:K03269] [EC:3.6.1.54]',\n",
       " '            HP0867  lpxB; lipid-A-disaccharide synthase [KO:K00748] [EC:2.4.1.182]',\n",
       " \"            HP0328  lpxK; tetraacyldisaccharide 4'-kinase [KO:K00912] [EC:2.7.1.130]\",\n",
       " '            HP1429  KpsF/GutQ family protein [KO:K06041] [EC:5.3.1.13]',\n",
       " '            HP0003  2-dehydro-3-deoxyphosphooctonate aldolase [KO:K01627] [EC:2.5.1.55]',\n",
       " '            HP1570  3-deoxy-D-manno-octulosonate 8-phosphate phosphatase [KO:K03270] [EC:3.1.3.45]',\n",
       " '            HP0230  3-deoxy-manno-octulosonate cytidylyltransferase [KO:K00979] [EC:2.7.7.38]',\n",
       " '            HP0957  3-deoxy-D-manno-octulosonic acid transferase [KO:K02527] [EC:2.4.99.12 2.4.99.13 2.4.99.14 2.4.99.15]',\n",
       " '            HP0280  lipid A biosynthesis lauroyl acyltransferase [KO:K02517] [EC:2.3.1.241 2.3.1.-]',\n",
       " '            HP0022  lipid A phosphoethanolamine transferase [KO:K03760] [EC:2.7.8.43]',\n",
       " '            HP0270  hypothetical protein [KO:K09778] [EC:2.3.1.-]',\n",
       " '            HP0021  lipid A 1-phosphatase [KO:K12977] [EC:3.1.3.-]',\n",
       " '            HP0579  Kdo hydrolase subunit 2 [KO:K23082] [EC:3.2.1.144]',\n",
       " '            HP0580  Kdo hydrolase subunit 2 [KO:K23083]',\n",
       " '            HP1580  hypothetical protein [KO:K23159] [EC:3.1.3.-]',\n",
       " '            HP0857  phosphoheptose isomerase [KO:K03271] [EC:5.3.1.28]',\n",
       " '            HP0858  bifunctional heptose 7-phosphate kinase/heptose 1-phosphate adenylyltransferase [KO:K03272] [EC:2.7.1.167 2.7.7.70]',\n",
       " '            HP0860  D,D-heptose 1,7-bisphosphate phosphatase [KO:K03273] [EC:3.1.3.82 3.1.3.83]',\n",
       " '            HP0859  ADP-glyceromanno-heptose 6-epimerase [KO:K03274] [EC:5.1.3.20]',\n",
       " '            HP0279  lipopolysaccharide heptosyltransferase [KO:K02841] [EC:2.4.-.-]',\n",
       " '            HP1191  ADP-heptose-LPS heptosyltransferase II RfaF [KO:K02843] [EC:2.4.-.-]',\n",
       " '            HP1417m  metal-dependent hydrolase [KO:K19353] [EC:2.7.8.-]',\n",
       " '            HP1416  lipopolysaccharide 1,2-glucosyltransferase RfaJ [KO:K03279] [EC:2.4.1.58]',\n",
       " '            HP0159  lipopolysaccharide 1,2-glucosyltransferase RfaJ [KO:K03279] [EC:2.4.1.58]',\n",
       " '            HP1039  lipid A core--O-antigen ligase [KO:K02847] [EC:2.4.1.-]',\n",
       " 'GENE        HP0646  UTP--glucose-1-phosphate uridylyltransferase [KO:K00963] [EC:2.7.7.9]',\n",
       " '            HP0360  UDP-glucose 4-epimerase [KO:K01784] [EC:5.1.3.2]',\n",
       " '            HP0043  mannose-6-phosphate isomerase [KO:K00971] [EC:2.7.7.13]',\n",
       " '            HP0044  GDP-D-mannose dehydratase [KO:K01711] [EC:4.2.1.47]',\n",
       " '            HP0045  nodulation protein NolK [KO:K02377] [EC:1.1.1.271]',\n",
       " '            HP0683  glmU; bifunctional N-acetylglucosamine-1-phosphate uridyltransferase/glucosamine-1-phosphate acetyltransferase [KO:K04042] [EC:2.7.7.23 2.3.1.157]',\n",
       " '            HP0840  UDP-N-acetylglucosamine 4,6-dehydratase [KO:K15894] [EC:4.2.1.115 5.1.3.-]',\n",
       " '            HP0366  UDP-4-amino-4,6-dideoxy-N-acetyl-beta-L-altrosamine aminotransferase [KO:K15895] [EC:2.6.1.92]',\n",
       " '            HP0327  UDP-4-amino-4,6-dideoxy-N-acetyl-beta-L-altrosamine N-acetyltransferase [KO:K15896] [EC:2.3.1.202]',\n",
       " '            HP0326  bifunctional pseudaminic acid cytidylyltransferase/UDP-2,4-diacetamido-2,4, 6-trideoxy-beta-L-altropyranose hydrolase [KO:K15897 K15899] [EC:3.6.1.57 2.7.7.81]',\n",
       " '            HP0178  pseudaminic acid synthase [KO:K15898] [EC:2.5.1.97]',\n",
       " 'GENE        HP0648  UDP-N-acetylglucosamine 1-carboxyvinyltransferase [KO:K00790] [EC:2.5.1.7]',\n",
       " '            HP1418  murB; UDP-N-acetylenolpyruvoylglucosamine reductase [KO:K00075] [EC:1.3.1.98]',\n",
       " '            HP0623  murC; UDP-N-acetylmuramate--L-alanine ligase [KO:K01924] [EC:6.3.2.8]',\n",
       " '            HP0494  murD; UDP-N-acetylmuramoylalanine--D-glutamate ligase [KO:K01925] [EC:6.3.2.9]',\n",
       " '            HP1221  isoprenyl transferase [KO:K00806] [EC:2.5.1.31]',\n",
       " '            HP0851  membrane protein [KO:K19302] [EC:3.6.1.27]',\n",
       " '            HP0493  mraY; phospho-N-acetylmuramoyl-pentapeptide-transferase [KO:K01000] [EC:2.7.8.13]',\n",
       " '            HP1155  murG; UDP-N-acetylglucosamine--N-acetylmuramyl-(pentapeptide) pyrophosphoryl-undecaprenol N-acetylglucosamine transferase [KO:K02563] [EC:2.4.1.227]',\n",
       " '            HP0597  penicillin-binding protein 1A [KO:K05366] [EC:2.4.1.129 3.4.16.4]',\n",
       " '            HP1565  penicillin-binding protein 2 [KO:K05515] [EC:3.4.16.4]',\n",
       " '            HP1556  cell division protein FtsI [KO:K03587] [EC:3.4.16.4]',\n",
       " 'GENE        HP0294  amiE; acylamide amidohydrolase [KO:K01426] [EC:3.5.1.4]',\n",
       " '            HP1476  3-octaprenyl-4-hydroxybenzoate carboxy-lyase [KO:K03186] [EC:2.5.1.129]',\n",
       " 'GENE        HP0183  glyA; serine hydroxymethyltransferase [KO:K00600] [EC:2.1.2.1]',\n",
       " '            HP0154  eno; enolase [KO:K01689] [EC:4.2.1.11]',\n",
       " '            HP0176  fructose-bisphosphate aldolase [KO:K01624] [EC:4.1.2.13]',\n",
       " '            HP1385  fructose-1,6-bisphosphatase [KO:K03841] [EC:3.1.3.11]',\n",
       " '            HP0407  biotin sulfoxide reductase [KO:K07812] [EC:1.7.2.3]',\n",
       " '            HP0903m  ackA; acetate kinase [KO:K00925] [EC:2.7.2.1]',\n",
       " '            HP1045  acetyl-CoA synthetase [KO:K01895] [EC:6.2.1.1]',\n",
       " '            HP1110  porA; pyruvate flavodoxin oxidoreductase subunit alpha [KO:K00169] [EC:1.2.7.1]',\n",
       " '            HP1111  pyruvate flavodoxin oxidoreductase subunit beta [KO:K00170] [EC:1.2.7.1]',\n",
       " '            HP1108  porC; pyruvate flavodoxin oxidoreductase subunit gamma [KO:K00172] [EC:1.2.7.1]',\n",
       " '            HP1109  porD; pyruvate flavodoxin oxidoreductase subunit delta [KO:K00171] [EC:1.2.7.1]',\n",
       " '            HP0121  phosphoenolpyruvate synthase [KO:K01007] [EC:2.7.9.2]',\n",
       " '            HP0974  2,3-bisphosphoglycerate-independent phosphoglycerate mutase [KO:K15633] [EC:5.4.2.12]',\n",
       " '            HP0397  D-3-phosphoglycerate dehydrogenase [KO:K00058] [EC:1.1.1.95 1.1.1.399]',\n",
       " '            HP0652  phosphoserine phosphatase SerB [KO:K01079] [EC:3.1.3.3]',\n",
       " 'GENE        HP1329  cation efflux system protein CzCA [KO:K07787]',\n",
       " '            HP0115  flagellin B [KO:K02406]',\n",
       " '            HP0601  flagellin A [KO:K02406]',\n",
       " '            HP1032  fliA; flagellar biosynthesis sigma factor [KO:K02405]',\n",
       " '            HP0815  flagellar motor protein MotA [KO:K02556]',\n",
       " '            HP1529  dnaA; chromosome replication initiator DnaA [KO:K02313]',\n",
       " '            HP0192  fumarate reductase flavoprotein subunit [KO:K00244] [EC:1.3.5.4]',\n",
       " '            HP0191  frdB; fumarate reductase iron-sulfur subunit [KO:K00245] [EC:1.3.5.4]',\n",
       " '            HP0193  fumarate reductase cytochrome b-556 subunit [KO:K00246]',\n",
       " '            HP1442  carbon storage regulator [KO:K03563]',\n",
       " '            HP0512  glutamine synthetase GlnA [KO:K01915] [EC:6.3.1.2]',\n",
       " '            HP0244  signal-transducing histidine kinase [KO:K07710] [EC:2.7.13.3]',\n",
       " '            HP0693  short-chain fatty acids transporter [KO:K02106]',\n",
       " '            HP0714  RNA polymerase factor sigma-54 [KO:K03092]',\n",
       " '            HP0633  Ni/Fe-hydrogenase B-type cytochrome subunit [KO:K03620]',\n",
       " '            HP0082  methyl-accepting chemotaxis transducer TlpC [KO:K03406]',\n",
       " '            HP0099  methyl-accepting chemotaxis protein TlpA [KO:K03406]',\n",
       " '            HP0103  methyl-accepting chemotaxis protein TlpB [KO:K03406]',\n",
       " '            HP0391  chemotaxis protein CheW [KO:K03408]',\n",
       " '            HP0392  histidine kinase CheA [KO:K03407] [EC:2.7.13.3]',\n",
       " '            HP1067  chemotaxis protein CheY [KO:K03413]',\n",
       " '            HP0019  chemotaxis protein CheV [KO:K03415]',\n",
       " '            HP0393  chemotaxis protein CheV [KO:K03415]',\n",
       " '            HP0616  chemotaxis protein CheV [KO:K03415]',\n",
       " '            HP1540  ubiquinol cytochrome c oxidoreductase Rieske 2Fe-2S subunit [KO:K00411] [EC:7.1.1.8]',\n",
       " '            HP1539  ubiquinol cytochrome c oxidoreductase cytochrome b subunit [KO:K00412]',\n",
       " '            HP1538  fbcH; ubiquinol cytochrome c oxidoreductase cytochrome c1 subunit [KO:K00413]',\n",
       " '            HP0144  cbb3-type cytochrome c oxidase subunit I [KO:K00404] [EC:7.1.1.9]',\n",
       " '            HP0145  cbb3-type cytochrome c oxidase subunit II [KO:K00405]',\n",
       " '            HP0146  cbb3-type cytochrome c oxidase subunit IV [KO:K00407]',\n",
       " '            HP0147  cbb3-type cytochrome c oxidase subunit III [KO:K00406]',\n",
       " 'GENE        HP0105  S-ribosylhomocysteinase [KO:K07173] [EC:4.4.1.21]',\n",
       " '            HP1282  anthranilate synthase component I [KO:K01657] [EC:4.1.3.27]',\n",
       " '            HP1281  anthranilate synthase component II [KO:K01658] [EC:4.1.3.27]',\n",
       " '            HP0134  phospho-2-dehydro-3-deoxyheptonate aldolase [KO:K01626] [EC:2.5.1.54]',\n",
       " '            HP0802  ribA; GTP cyclohydrolase II [KO:K01497] [EC:3.5.4.25]',\n",
       " '            HP1505  hypothetical protein [KO:K11752] [EC:3.5.4.26 1.1.1.193]',\n",
       " '            HP1450  membrane protein insertase YidC [KO:K03217]',\n",
       " '            HP1203a  secE; preprotein translocase subunit SecE [KO:K03073]',\n",
       " '            HP1255  secG; preprotein translocase subunit SecG [KO:K03075]',\n",
       " '            HP1300  secY; preprotein translocase subunit SecY [KO:K03076]',\n",
       " '            HP1551  yajC; preprotein translocase subunit YajC [KO:K03210]',\n",
       " '            HP0786  secA; preprotein translocase subunit SecA [KO:K03070] [EC:7.4.2.8]',\n",
       " '            HP0763  signal recognition particle receptor FtsY [KO:K03110]',\n",
       " '            HP1152  signal recognition particle protein [KO:K03106] [EC:3.6.5.4]',\n",
       " 'GENE        HP0082  methyl-accepting chemotaxis transducer TlpC [KO:K03406]',\n",
       " '            HP0298  dipeptide ABC transporter substrate-binding protein DppA [KO:K12368]',\n",
       " '            HP0352  fliG; flagellar motor switch protein FliG [KO:K02410]',\n",
       " '            HP1031  fliM; flagellar motor switch protein FliM [KO:K02416]',\n",
       " '            HP1030  flagellar motor switch protein FliY [KO:K02417]',\n",
       " '            HP0584  flagellar motor switch protein [KO:K02417]',\n",
       " '            HP0816  motB; flagellar motor protein MotB [KO:K02557]',\n",
       " 'GENE        HP1557  fliE; flagellar hook-basal body protein FliE [KO:K02408]',\n",
       " '            HP0351  fliF; flagellar MS-ring protein FliF [KO:K02409]',\n",
       " '            HP0353  fliH; flagellar assembly protein H [KO:K02411]',\n",
       " '            HP1420  fliI; flagellum-specific ATP synthase [KO:K02412] [EC:7.4.2.8]',\n",
       " '            HP0906  hypothetical protein [KO:K02414]',\n",
       " '            HP0809  fliL; flagellar basal body protein FliL [KO:K02415]',\n",
       " '            HP1419  fliQ; flagellar biosynthesis protein FliQ [KO:K02420]',\n",
       " '            HP0173  fliR; flagellar biosynthesis protein FliR [KO:K02421]',\n",
       " '            HP1041  flhA; flagellar biosynthesis protein FlhA [KO:K02400]',\n",
       " '            HP0770  flhB; flagellar biosynthesis protein FlhB [KO:K02401]',\n",
       " '            HP1477  flgA; flagellar basal body P-ring biosynthesis protein FlgA [KO:K02386]',\n",
       " '            HP1559  flgB; flagellar basal-body rod protein FlgB [KO:K02387]',\n",
       " '            HP1558  flgC; flagellar basal body rod protein FlgC [KO:K02388]',\n",
       " '            HP0907  flgD; flagellar basal body rod modification protein [KO:K02389]',\n",
       " '            HP0870  flgE; flagellar hook protein FlgE [KO:K02390]',\n",
       " '            HP0908  flgE; flagellar hook protein FlgE [KO:K02390]',\n",
       " '            HP1092  flagellar basal-body rod protein FlgG [KO:K02391]',\n",
       " '            HP1585  flgG; flagellar basal body rod protein FlgG [KO:K02392]',\n",
       " '            HP0325  flgH; flagellar basal body L-ring protein [KO:K02393]',\n",
       " '            HP0246  flgI; flagellar basal body P-ring biosynthesis protein FlgA [KO:K02394]',\n",
       " '            HP0245  hypothetical protein [KO:K02395]',\n",
       " '            HP1119  flgK; flagellar hook-associated protein FlgK [KO:K02396]',\n",
       " '            HP0295  flgL; flagellar hook-associated protein FlgL [KO:K02397]',\n",
       " '            HP0752  fliD; flagellar hook-associated protein [KO:K02407]',\n",
       " '            HP0753  fliS; flagellar biosynthesis protein FliS [KO:K02422]',\n",
       " '            HP0940  amino acid ABC transporter substrate-binding protein [KO:K02424]',\n",
       " '            HP0088  RNA polymerase sigma factor RpoD [KO:K03086]',\n",
       " 'GENE        HP1550  secD; preprotein translocase subunit SecD [KO:K03072]',\n",
       " '            HP1549  secF; preprotein translocase subunit SecF [KO:K03074]',\n",
       " '            HP0320  preprotein translocase subunit TatA [KO:K03116]',\n",
       " '            HP1060  Sec-independent protein translocase protein TatB [KO:K03117]',\n",
       " '            HP1061  Sec-independent protein translocase protein TatC [KO:K03118]',\n",
       " '            HP0887  vacuolating cytotoxin autotransporter [KO:K11028]',\n",
       " '            HP0439  type IV secretory pathway protein [KO:K03203]',\n",
       " '            HP0441  type IV secretion/conjugal transfer ATPase [KO:K03199] [EC:7.4.2.8]',\n",
       " '            HP1421  type IV secretion system ATPase [KO:K03196] [EC:7.4.2.8]',\n",
       " '            HP0525  type IV secretion system ATPase [KO:K03196] [EC:7.4.2.8]',\n",
       " '            HP1006  conjugal transfer protein TraG [KO:K03205] [EC:7.4.2.8]']"
      ]
     },
     "execution_count": 4,
     "metadata": {},
     "output_type": "execute_result"
    }
   ],
   "source": [
    "unique_genes = []\n",
    "for pathway in path:\n",
    "    pathway_file = s.get(pathway)  \n",
    "    \n",
    "    current_section = None\n",
    "    for line in pathway_file.rstrip().split(\"\\n\"):\n",
    "        section = line[:12].strip()  \n",
    "        if not section == \"\":\n",
    "            current_section = section\n",
    "\n",
    "        if current_section == \"GENE\":\n",
    "            gene_identifiers = line\n",
    "\n",
    "            if not gene_identifiers in unique_genes:\n",
    "                unique_genes.append(gene_identifiers)\n",
    "\n",
    "print(\"There are %d unique pathways and %d unique genes. The genes are:\" % \\\n",
    "        (len(path), len(unique_genes)))\n",
    "\", \".join(unique_genes)\n",
    "unique_genes"
   ]
  },
  {
   "cell_type": "code",
   "execution_count": 5,
   "metadata": {},
   "outputs": [
    {
     "name": "stdout",
     "output_type": "stream",
     "text": [
      "GENE        HP1014  7-alpha-hydroxysteroid dehydrogenase [KO:K00076] [EC:1.1.1.159] GENE        HP1229  aspartokinase [KO:K00928] [EC:2.7.2.4]             HP1189  aspartate-semialdehyde dehydrogenase [KO:K00133] [EC:1.2.1.11]             HP1013  dapA; 4-hydroxy-tetrahydrodipicolinate synthase [KO:K01714] [EC:4.3.3.7]             HP0510  4-hydroxy-tetrahydrodipicolinate reductase [KO:K00215] [EC:1.17.1.8] GENE        HP0822  homoserine dehydrogenase [KO:K00003] [EC:1.1.1.3]             HP1229  aspartokinase [KO:K00928] [EC:2.7.2.4]             HP0626  2,3,4,5-tetrahydropyridine-2,6-dicarboxylate N-succinyltransferase [KO:K00674] [EC:2.3.1.117]             HP0212  succinyl-diaminopimelate desuccinylase [KO:K01439] [EC:3.5.1.18]             HP0566  dapF; diaminopimelate epimerase [KO:K01778] [EC:5.1.1.7]             HP0290  diaminopimelate decarboxylase [KO:K01586] [EC:4.1.1.20]             HP1507  saccharopine dehydrogenase [KO:K00290] [EC:1.5.1.7]             HP1494  murE; UDP-N-acetylmuramoylalanyl-D-glutamate--2,6-diaminopimelate ligase [KO:K01928] [EC:6.3.2.13]             HP0740  UDP-N-acetylmuramoyl-tripeptide--D-alanyl-D-alanine ligase [KO:K01929] [EC:6.3.2.10] GENE        HP0924  4-oxalocrotonate tautomerase [KO:K01821] [EC:5.3.2.6]             HP0690  acetyl CoA acetyltransferase [KO:K00626] [EC:2.3.1.9] GENE        HP1380  prephenate dehydrogenase [KO:K04517] [EC:1.3.1.12]             HP0672  aspartate aminotransferase [KO:K00812] [EC:2.6.1.1] GENE        HP1118  gamma-glutamyltranspeptidase [KO:K00681] [EC:2.3.2.2 3.4.19.13]             HP0723  L-asparaginase II [KO:K01424] [EC:3.5.1.1]             HP0183  glyA; serine hydroxymethyltransferase [KO:K00600] [EC:2.1.2.1]             HP1238  amiF; formamidase [KO:K01455] [EC:3.5.1.49] GENE        HP0941  alanine racemase [KO:K01775] [EC:5.1.1.1]             HP0738  ddl; D-alanine--D-alanine ligase [KO:K01921] [EC:6.3.2.4] GENE        HP1103  glk; glucokinase [KO:K00845] [EC:2.7.1.2]             HP1275  algC; phosphomannomutase [KO:K15778] [EC:5.4.2.8 5.4.2.2] GENE        HP1375  acyl-[acyl-carrier-protein]--UDP-N-acetylglucosamine O-acyltransferase [KO:K00677] [EC:2.3.1.129]             HP1052  lpxC; UDP-3-O-[3-hydroxymyristoyl] N-acetylglucosamine deacetylase [KO:K02535] [EC:3.5.1.108]             HP0196  lpxD; UDP-3-O-[3-hydroxymyristoyl] glucosamine N-acyltransferase [KO:K02536] [EC:2.3.1.191]             HP0394  hypothetical protein [KO:K03269] [EC:3.6.1.54]             HP0867  lpxB; lipid-A-disaccharide synthase [KO:K00748] [EC:2.4.1.182]             HP0328  lpxK; tetraacyldisaccharide 4'-kinase [KO:K00912] [EC:2.7.1.130]             HP1429  KpsF/GutQ family protein [KO:K06041] [EC:5.3.1.13]             HP0003  2-dehydro-3-deoxyphosphooctonate aldolase [KO:K01627] [EC:2.5.1.55]             HP1570  3-deoxy-D-manno-octulosonate 8-phosphate phosphatase [KO:K03270] [EC:3.1.3.45]             HP0230  3-deoxy-manno-octulosonate cytidylyltransferase [KO:K00979] [EC:2.7.7.38]             HP0957  3-deoxy-D-manno-octulosonic acid transferase [KO:K02527] [EC:2.4.99.12 2.4.99.13 2.4.99.14 2.4.99.15]             HP0280  lipid A biosynthesis lauroyl acyltransferase [KO:K02517] [EC:2.3.1.241 2.3.1.-]             HP0022  lipid A phosphoethanolamine transferase [KO:K03760] [EC:2.7.8.43]             HP0270  hypothetical protein [KO:K09778] [EC:2.3.1.-]             HP0021  lipid A 1-phosphatase [KO:K12977] [EC:3.1.3.-]             HP0579  Kdo hydrolase subunit 2 [KO:K23082] [EC:3.2.1.144]             HP0580  Kdo hydrolase subunit 2 [KO:K23083]             HP1580  hypothetical protein [KO:K23159] [EC:3.1.3.-]             HP0857  phosphoheptose isomerase [KO:K03271] [EC:5.3.1.28]             HP0858  bifunctional heptose 7-phosphate kinase/heptose 1-phosphate adenylyltransferase [KO:K03272] [EC:2.7.1.167 2.7.7.70]             HP0860  D,D-heptose 1,7-bisphosphate phosphatase [KO:K03273] [EC:3.1.3.82 3.1.3.83]             HP0859  ADP-glyceromanno-heptose 6-epimerase [KO:K03274] [EC:5.1.3.20]             HP0279  lipopolysaccharide heptosyltransferase [KO:K02841] [EC:2.4.-.-]             HP1191  ADP-heptose-LPS heptosyltransferase II RfaF [KO:K02843] [EC:2.4.-.-]             HP1417m  metal-dependent hydrolase [KO:K19353] [EC:2.7.8.-]             HP1416  lipopolysaccharide 1,2-glucosyltransferase RfaJ [KO:K03279] [EC:2.4.1.58]             HP0159  lipopolysaccharide 1,2-glucosyltransferase RfaJ [KO:K03279] [EC:2.4.1.58]             HP1039  lipid A core--O-antigen ligase [KO:K02847] [EC:2.4.1.-] GENE        HP0646  UTP--glucose-1-phosphate uridylyltransferase [KO:K00963] [EC:2.7.7.9]             HP0360  UDP-glucose 4-epimerase [KO:K01784] [EC:5.1.3.2]             HP0043  mannose-6-phosphate isomerase [KO:K00971] [EC:2.7.7.13]             HP0044  GDP-D-mannose dehydratase [KO:K01711] [EC:4.2.1.47]             HP0045  nodulation protein NolK [KO:K02377] [EC:1.1.1.271]             HP0683  glmU; bifunctional N-acetylglucosamine-1-phosphate uridyltransferase/glucosamine-1-phosphate acetyltransferase [KO:K04042] [EC:2.7.7.23 2.3.1.157]             HP0840  UDP-N-acetylglucosamine 4,6-dehydratase [KO:K15894] [EC:4.2.1.115 5.1.3.-]             HP0366  UDP-4-amino-4,6-dideoxy-N-acetyl-beta-L-altrosamine aminotransferase [KO:K15895] [EC:2.6.1.92]             HP0327  UDP-4-amino-4,6-dideoxy-N-acetyl-beta-L-altrosamine N-acetyltransferase [KO:K15896] [EC:2.3.1.202]             HP0326  bifunctional pseudaminic acid cytidylyltransferase/UDP-2,4-diacetamido-2,4, 6-trideoxy-beta-L-altropyranose hydrolase [KO:K15897 K15899] [EC:3.6.1.57 2.7.7.81]             HP0178  pseudaminic acid synthase [KO:K15898] [EC:2.5.1.97] GENE        HP0648  UDP-N-acetylglucosamine 1-carboxyvinyltransferase [KO:K00790] [EC:2.5.1.7]             HP1418  murB; UDP-N-acetylenolpyruvoylglucosamine reductase [KO:K00075] [EC:1.3.1.98]             HP0623  murC; UDP-N-acetylmuramate--L-alanine ligase [KO:K01924] [EC:6.3.2.8]             HP0494  murD; UDP-N-acetylmuramoylalanine--D-glutamate ligase [KO:K01925] [EC:6.3.2.9]             HP1221  isoprenyl transferase [KO:K00806] [EC:2.5.1.31]             HP0851  membrane protein [KO:K19302] [EC:3.6.1.27]             HP0493  mraY; phospho-N-acetylmuramoyl-pentapeptide-transferase [KO:K01000] [EC:2.7.8.13]             HP1155  murG; UDP-N-acetylglucosamine--N-acetylmuramyl-(pentapeptide) pyrophosphoryl-undecaprenol N-acetylglucosamine transferase [KO:K02563] [EC:2.4.1.227]             HP0597  penicillin-binding protein 1A [KO:K05366] [EC:2.4.1.129 3.4.16.4]             HP1565  penicillin-binding protein 2 [KO:K05515] [EC:3.4.16.4]             HP1556  cell division protein FtsI [KO:K03587] [EC:3.4.16.4] GENE        HP0294  amiE; acylamide amidohydrolase [KO:K01426] [EC:3.5.1.4]             HP1476  3-octaprenyl-4-hydroxybenzoate carboxy-lyase [KO:K03186] [EC:2.5.1.129] GENE        HP0183  glyA; serine hydroxymethyltransferase [KO:K00600] [EC:2.1.2.1]             HP0154  eno; enolase [KO:K01689] [EC:4.2.1.11]             HP0176  fructose-bisphosphate aldolase [KO:K01624] [EC:4.1.2.13]             HP1385  fructose-1,6-bisphosphatase [KO:K03841] [EC:3.1.3.11]             HP0407  biotin sulfoxide reductase [KO:K07812] [EC:1.7.2.3]             HP0903m  ackA; acetate kinase [KO:K00925] [EC:2.7.2.1]             HP1045  acetyl-CoA synthetase [KO:K01895] [EC:6.2.1.1]             HP1110  porA; pyruvate flavodoxin oxidoreductase subunit alpha [KO:K00169] [EC:1.2.7.1]             HP1111  pyruvate flavodoxin oxidoreductase subunit beta [KO:K00170] [EC:1.2.7.1]             HP1108  porC; pyruvate flavodoxin oxidoreductase subunit gamma [KO:K00172] [EC:1.2.7.1]             HP1109  porD; pyruvate flavodoxin oxidoreductase subunit delta [KO:K00171] [EC:1.2.7.1]             HP0121  phosphoenolpyruvate synthase [KO:K01007] [EC:2.7.9.2]             HP0974  2,3-bisphosphoglycerate-independent phosphoglycerate mutase [KO:K15633] [EC:5.4.2.12]             HP0397  D-3-phosphoglycerate dehydrogenase [KO:K00058] [EC:1.1.1.95 1.1.1.399]             HP0652  phosphoserine phosphatase SerB [KO:K01079] [EC:3.1.3.3] GENE        HP1329  cation efflux system protein CzCA [KO:K07787]             HP0115  flagellin B [KO:K02406]             HP0601  flagellin A [KO:K02406]             HP1032  fliA; flagellar biosynthesis sigma factor [KO:K02405]             HP0815  flagellar motor protein MotA [KO:K02556]             HP1529  dnaA; chromosome replication initiator DnaA [KO:K02313]             HP0192  fumarate reductase flavoprotein subunit [KO:K00244] [EC:1.3.5.4]             HP0191  frdB; fumarate reductase iron-sulfur subunit [KO:K00245] [EC:1.3.5.4]             HP0193  fumarate reductase cytochrome b-556 subunit [KO:K00246]             HP1442  carbon storage regulator [KO:K03563]             HP0512  glutamine synthetase GlnA [KO:K01915] [EC:6.3.1.2]             HP0244  signal-transducing histidine kinase [KO:K07710] [EC:2.7.13.3]             HP0693  short-chain fatty acids transporter [KO:K02106]             HP0714  RNA polymerase factor sigma-54 [KO:K03092]             HP0633  Ni/Fe-hydrogenase B-type cytochrome subunit [KO:K03620]             HP0082  methyl-accepting chemotaxis transducer TlpC [KO:K03406]             HP0099  methyl-accepting chemotaxis protein TlpA [KO:K03406]             HP0103  methyl-accepting chemotaxis protein TlpB [KO:K03406]             HP0391  chemotaxis protein CheW [KO:K03408]             HP0392  histidine kinase CheA [KO:K03407] [EC:2.7.13.3]             HP1067  chemotaxis protein CheY [KO:K03413]             HP0019  chemotaxis protein CheV [KO:K03415]             HP0393  chemotaxis protein CheV [KO:K03415]             HP0616  chemotaxis protein CheV [KO:K03415]             HP1540  ubiquinol cytochrome c oxidoreductase Rieske 2Fe-2S subunit [KO:K00411] [EC:7.1.1.8]             HP1539  ubiquinol cytochrome c oxidoreductase cytochrome b subunit [KO:K00412]             HP1538  fbcH; ubiquinol cytochrome c oxidoreductase cytochrome c1 subunit [KO:K00413]             HP0144  cbb3-type cytochrome c oxidase subunit I [KO:K00404] [EC:7.1.1.9]             HP0145  cbb3-type cytochrome c oxidase subunit II [KO:K00405]             HP0146  cbb3-type cytochrome c oxidase subunit IV [KO:K00407]             HP0147  cbb3-type cytochrome c oxidase subunit III [KO:K00406] GENE        HP0105  S-ribosylhomocysteinase [KO:K07173] [EC:4.4.1.21]             HP1282  anthranilate synthase component I [KO:K01657] [EC:4.1.3.27]             HP1281  anthranilate synthase component II [KO:K01658] [EC:4.1.3.27]             HP0134  phospho-2-dehydro-3-deoxyheptonate aldolase [KO:K01626] [EC:2.5.1.54]             HP0802  ribA; GTP cyclohydrolase II [KO:K01497] [EC:3.5.4.25]             HP1505  hypothetical protein [KO:K11752] [EC:3.5.4.26 1.1.1.193]             HP1450  membrane protein insertase YidC [KO:K03217]             HP1203a  secE; preprotein translocase subunit SecE [KO:K03073]             HP1255  secG; preprotein translocase subunit SecG [KO:K03075]             HP1300  secY; preprotein translocase subunit SecY [KO:K03076]             HP1551  yajC; preprotein translocase subunit YajC [KO:K03210]             HP0786  secA; preprotein translocase subunit SecA [KO:K03070] [EC:7.4.2.8]             HP0763  signal recognition particle receptor FtsY [KO:K03110]             HP1152  signal recognition particle protein [KO:K03106] [EC:3.6.5.4] GENE        HP0082  methyl-accepting chemotaxis transducer TlpC [KO:K03406]             HP0298  dipeptide ABC transporter substrate-binding protein DppA [KO:K12368]             HP0352  fliG; flagellar motor switch protein FliG [KO:K02410]             HP1031  fliM; flagellar motor switch protein FliM [KO:K02416]             HP1030  flagellar motor switch protein FliY [KO:K02417]             HP0584  flagellar motor switch protein [KO:K02417]             HP0816  motB; flagellar motor protein MotB [KO:K02557] GENE        HP1557  fliE; flagellar hook-basal body protein FliE [KO:K02408]             HP0351  fliF; flagellar MS-ring protein FliF [KO:K02409]             HP0353  fliH; flagellar assembly protein H [KO:K02411]             HP1420  fliI; flagellum-specific ATP synthase [KO:K02412] [EC:7.4.2.8]             HP0906  hypothetical protein [KO:K02414]             HP0809  fliL; flagellar basal body protein FliL [KO:K02415]             HP1419  fliQ; flagellar biosynthesis protein FliQ [KO:K02420]             HP0173  fliR; flagellar biosynthesis protein FliR [KO:K02421]             HP1041  flhA; flagellar biosynthesis protein FlhA [KO:K02400]             HP0770  flhB; flagellar biosynthesis protein FlhB [KO:K02401]             HP1477  flgA; flagellar basal body P-ring biosynthesis protein FlgA [KO:K02386]             HP1559  flgB; flagellar basal-body rod protein FlgB [KO:K02387]             HP1558  flgC; flagellar basal body rod protein FlgC [KO:K02388]             HP0907  flgD; flagellar basal body rod modification protein [KO:K02389]             HP0870  flgE; flagellar hook protein FlgE [KO:K02390]             HP0908  flgE; flagellar hook protein FlgE [KO:K02390]             HP1092  flagellar basal-body rod protein FlgG [KO:K02391]             HP1585  flgG; flagellar basal body rod protein FlgG [KO:K02392]             HP0325  flgH; flagellar basal body L-ring protein [KO:K02393]             HP0246  flgI; flagellar basal body P-ring biosynthesis protein FlgA [KO:K02394]             HP0245  hypothetical protein [KO:K02395]             HP1119  flgK; flagellar hook-associated protein FlgK [KO:K02396]             HP0295  flgL; flagellar hook-associated protein FlgL [KO:K02397]             HP0752  fliD; flagellar hook-associated protein [KO:K02407]             HP0753  fliS; flagellar biosynthesis protein FliS [KO:K02422]             HP0940  amino acid ABC transporter substrate-binding protein [KO:K02424]             HP0088  RNA polymerase sigma factor RpoD [KO:K03086] GENE        HP1550  secD; preprotein translocase subunit SecD [KO:K03072]             HP1549  secF; preprotein translocase subunit SecF [KO:K03074]             HP0320  preprotein translocase subunit TatA [KO:K03116]             HP1060  Sec-independent protein translocase protein TatB [KO:K03117]             HP1061  Sec-independent protein translocase protein TatC [KO:K03118]             HP0887  vacuolating cytotoxin autotransporter [KO:K11028]             HP0439  type IV secretory pathway protein [KO:K03203]             HP0441  type IV secretion/conjugal transfer ATPase [KO:K03199] [EC:7.4.2.8]             HP1421  type IV secretion system ATPase [KO:K03196] [EC:7.4.2.8]             HP0525  type IV secretion system ATPase [KO:K03196] [EC:7.4.2.8]             HP1006  conjugal transfer protein TraG [KO:K03205] [EC:7.4.2.8]\n"
     ]
    }
   ],
   "source": [
    "str1 = \" \"   \n",
    "s = str1.join(unique_genes)\n",
    "print(s)"
   ]
  },
  {
   "cell_type": "code",
   "execution_count": 6,
   "metadata": {},
   "outputs": [
    {
     "name": "stdout",
     "output_type": "stream",
     "text": [
      "['HP1014', 'HP1229', 'HP1189', 'HP1013', 'HP0510', 'HP0822', 'HP1229', 'HP0626', 'HP0212', 'HP0566', 'HP0290', 'HP1507', 'HP1494', 'HP0740', 'HP0924', 'HP0690', 'HP1380', 'HP0672', 'HP1118', 'HP0723', 'HP0183', 'HP1238', 'HP0941', 'HP0738', 'HP1103', 'HP1275', 'HP1375', 'HP1052', 'HP0196', 'HP0394', 'HP0867', 'HP0328', 'HP1429', 'HP0003', 'HP1570', 'HP0230', 'HP0957', 'HP0280', 'HP0022', 'HP0270', 'HP0021', 'HP0579', 'HP0580', 'HP1580', 'HP0857', 'HP0858', 'HP0860', 'HP0859', 'HP0279', 'HP1191', 'HP1417', 'HP1416', 'HP0159', 'HP1039', 'HP0646', 'HP0360', 'HP0043', 'HP0044', 'HP0045', 'HP0683', 'HP0840', 'HP0366', 'HP0327', 'HP0326', 'HP0178', 'HP0648', 'HP1418', 'HP0623', 'HP0494', 'HP1221', 'HP0851', 'HP0493', 'HP1155', 'HP0597', 'HP1565', 'HP1556', 'HP0294', 'HP1476', 'HP0183', 'HP0154', 'HP0176', 'HP1385', 'HP0407', 'HP0903', 'HP1045', 'HP1110', 'HP1111', 'HP1108', 'HP1109', 'HP0121', 'HP0974', 'HP0397', 'HP0652', 'HP1329', 'HP0115', 'HP0601', 'HP1032', 'HP0815', 'HP1529', 'HP0192', 'HP0191', 'HP0193', 'HP1442', 'HP0512', 'HP0244', 'HP0693', 'HP0714', 'HP0633', 'HP0082', 'HP0099', 'HP0103', 'HP0391', 'HP0392', 'HP1067', 'HP0019', 'HP0393', 'HP0616', 'HP1540', 'HP1539', 'HP1538', 'HP0144', 'HP0145', 'HP0146', 'HP0147', 'HP0105', 'HP1282', 'HP1281', 'HP0134', 'HP0802', 'HP1505', 'HP1450', 'HP1203', 'HP1255', 'HP1300', 'HP1551', 'HP0786', 'HP0763', 'HP1152', 'HP0082', 'HP0298', 'HP0352', 'HP1031', 'HP1030', 'HP0584', 'HP0816', 'HP1557', 'HP0351', 'HP0353', 'HP1420', 'HP0906', 'HP0809', 'HP1419', 'HP0173', 'HP1041', 'HP0770', 'HP1477', 'HP1559', 'HP1558', 'HP0907', 'HP0870', 'HP0908', 'HP1092', 'HP1585', 'HP0325', 'HP0246', 'HP0245', 'HP1119', 'HP0295', 'HP0752', 'HP0753', 'HP0940', 'HP0088', 'HP1550', 'HP1549', 'HP0320', 'HP1060', 'HP1061', 'HP0887', 'HP0439', 'HP0441', 'HP1421', 'HP0525', 'HP1006']\n"
     ]
    }
   ],
   "source": [
    "import re \n",
    "keggids=re.findall(\"HP....\",s,re.MULTILINE)   #change here\n",
    "print(keggids)"
   ]
  },
  {
   "cell_type": "code",
   "execution_count": 7,
   "metadata": {},
   "outputs": [
    {
     "name": "stdout",
     "output_type": "stream",
     "text": [
      "['hpy:HP1014', 'hpy:HP1229', 'hpy:HP1189', 'hpy:HP1013', 'hpy:HP0510', 'hpy:HP0822', 'hpy:HP1229', 'hpy:HP0626', 'hpy:HP0212', 'hpy:HP0566', 'hpy:HP0290', 'hpy:HP1507', 'hpy:HP1494', 'hpy:HP0740', 'hpy:HP0924', 'hpy:HP0690', 'hpy:HP1380', 'hpy:HP0672', 'hpy:HP1118', 'hpy:HP0723', 'hpy:HP0183', 'hpy:HP1238', 'hpy:HP0941', 'hpy:HP0738', 'hpy:HP1103', 'hpy:HP1275', 'hpy:HP1375', 'hpy:HP1052', 'hpy:HP0196', 'hpy:HP0394', 'hpy:HP0867', 'hpy:HP0328', 'hpy:HP1429', 'hpy:HP0003', 'hpy:HP1570', 'hpy:HP0230', 'hpy:HP0957', 'hpy:HP0280', 'hpy:HP0022', 'hpy:HP0270', 'hpy:HP0021', 'hpy:HP0579', 'hpy:HP0580', 'hpy:HP1580', 'hpy:HP0857', 'hpy:HP0858', 'hpy:HP0860', 'hpy:HP0859', 'hpy:HP0279', 'hpy:HP1191', 'hpy:HP1417', 'hpy:HP1416', 'hpy:HP0159', 'hpy:HP1039', 'hpy:HP0646', 'hpy:HP0360', 'hpy:HP0043', 'hpy:HP0044', 'hpy:HP0045', 'hpy:HP0683', 'hpy:HP0840', 'hpy:HP0366', 'hpy:HP0327', 'hpy:HP0326', 'hpy:HP0178', 'hpy:HP0648', 'hpy:HP1418', 'hpy:HP0623', 'hpy:HP0494', 'hpy:HP1221', 'hpy:HP0851', 'hpy:HP0493', 'hpy:HP1155', 'hpy:HP0597', 'hpy:HP1565', 'hpy:HP1556', 'hpy:HP0294', 'hpy:HP1476', 'hpy:HP0183', 'hpy:HP0154', 'hpy:HP0176', 'hpy:HP1385', 'hpy:HP0407', 'hpy:HP0903', 'hpy:HP1045', 'hpy:HP1110', 'hpy:HP1111', 'hpy:HP1108', 'hpy:HP1109', 'hpy:HP0121', 'hpy:HP0974', 'hpy:HP0397', 'hpy:HP0652', 'hpy:HP1329', 'hpy:HP0115', 'hpy:HP0601', 'hpy:HP1032', 'hpy:HP0815', 'hpy:HP1529', 'hpy:HP0192', 'hpy:HP0191', 'hpy:HP0193', 'hpy:HP1442', 'hpy:HP0512', 'hpy:HP0244', 'hpy:HP0693', 'hpy:HP0714', 'hpy:HP0633', 'hpy:HP0082', 'hpy:HP0099', 'hpy:HP0103', 'hpy:HP0391', 'hpy:HP0392', 'hpy:HP1067', 'hpy:HP0019', 'hpy:HP0393', 'hpy:HP0616', 'hpy:HP1540', 'hpy:HP1539', 'hpy:HP1538', 'hpy:HP0144', 'hpy:HP0145', 'hpy:HP0146', 'hpy:HP0147', 'hpy:HP0105', 'hpy:HP1282', 'hpy:HP1281', 'hpy:HP0134', 'hpy:HP0802', 'hpy:HP1505', 'hpy:HP1450', 'hpy:HP1203', 'hpy:HP1255', 'hpy:HP1300', 'hpy:HP1551', 'hpy:HP0786', 'hpy:HP0763', 'hpy:HP1152', 'hpy:HP0082', 'hpy:HP0298', 'hpy:HP0352', 'hpy:HP1031', 'hpy:HP1030', 'hpy:HP0584', 'hpy:HP0816', 'hpy:HP1557', 'hpy:HP0351', 'hpy:HP0353', 'hpy:HP1420', 'hpy:HP0906', 'hpy:HP0809', 'hpy:HP1419', 'hpy:HP0173', 'hpy:HP1041', 'hpy:HP0770', 'hpy:HP1477', 'hpy:HP1559', 'hpy:HP1558', 'hpy:HP0907', 'hpy:HP0870', 'hpy:HP0908', 'hpy:HP1092', 'hpy:HP1585', 'hpy:HP0325', 'hpy:HP0246', 'hpy:HP0245', 'hpy:HP1119', 'hpy:HP0295', 'hpy:HP0752', 'hpy:HP0753', 'hpy:HP0940', 'hpy:HP0088', 'hpy:HP1550', 'hpy:HP1549', 'hpy:HP0320', 'hpy:HP1060', 'hpy:HP1061', 'hpy:HP0887', 'hpy:HP0439', 'hpy:HP0441', 'hpy:HP1421', 'hpy:HP0525', 'hpy:HP1006']\n"
     ]
    }
   ],
   "source": [
    "keggidlist= []\n",
    "for i in keggids:\n",
    "    j = \"hpy:\"+i     #change here\n",
    "    keggidlist.append(j)\n",
    "print(keggidlist)"
   ]
  },
  {
   "cell_type": "code",
   "execution_count": 8,
   "metadata": {},
   "outputs": [],
   "source": [
    "with open(\"u_kegg_hpy.txt\", \"w\") as output:   #change here\n",
    "    for i in keggidlist:\n",
    "        output.write(str(i)+'\\n')\n",
    "    output.close()"
   ]
  },
  {
   "cell_type": "code",
   "execution_count": null,
   "metadata": {},
   "outputs": [],
   "source": []
  }
 ],
 "metadata": {
  "kernelspec": {
   "display_name": "Python 3",
   "language": "python",
   "name": "python3"
  },
  "language_info": {
   "codemirror_mode": {
    "name": "ipython",
    "version": 3
   },
   "file_extension": ".py",
   "mimetype": "text/x-python",
   "name": "python",
   "nbconvert_exporter": "python",
   "pygments_lexer": "ipython3",
   "version": "3.8.5"
  }
 },
 "nbformat": 4,
 "nbformat_minor": 4
}
